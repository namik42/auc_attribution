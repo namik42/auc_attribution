{
  "nbformat": 4,
  "nbformat_minor": 0,
  "metadata": {
    "colab": {
      "name": "Slicing -- AUC Attribution",
      "provenance": [
        {
          "file_id": "1gchIDJ2394iVYzLaHX2h3mI6aP9fNlBI",
          "timestamp": 1624774549343
        }
      ],
      "collapsed_sections": [],
      "last_runtime": {
        "build_target": "",
        "kind": "local"
      }
    },
    "kernelspec": {
      "name": "python3",
      "display_name": "Python 3"
    },
    "language_info": {
      "name": "python"
    }
  },
  "cells": [
    {
      "cell_type": "markdown",
      "metadata": {
        "id": "VzbhN1klfEdz"
      },
      "source": [
        "TL;DR: \n",
        "*  [Area Under the Receiver Operating Characteristic Curve (AUC-ROC)](https://en.wikipedia.org/wiki/Receiver_operating_characteristic) is a popular evaluation metric for binary classifiers. \n",
        "*  In this colab, we demonstrate a technique to segment the AUC-ROC along human-interpretable dimensions. \n",
        "* AUC-ROC is not an additive/linear function over the data samples, therefore such segmenting the overall AUC-ROC is different from tabulating the AUC-ROC of data seg-ments. \n",
        "* To segment the overall AUC-ROC, we must first identify attribute the overall AUC-ROC to individual examples. \n",
        "* AUC-ROC is already linear over pairs of examples. To identify credit for an individual example we split credit for pair evenly over the members of a pair.\n",
        "* We automatically slice these attributions, either for a single example or a pair, using decision trees by making the tree predict these attributions.\n",
        "* We use the notion of honest estimates along with a t-test to mitigate false discovery, i.e., if the distribution of samples for a segment differs between the dataset used for slicing, and the one which was kept aside, we warn the analyst that the result may be noisy.\n",
        "* We use also compare two models by diffing the AUC Attributions.\n",
        "* This analysis can be used to identify the robustness of the overal AUC to distribution shifts, and to identify headroom for improvement.\n"
      ]
    },
    {
      "cell_type": "code",
      "metadata": {
        "id": "6iLoqs6oIhWL",
        "cellView": "form",
        "executionInfo": {
          "status": "ok",
          "timestamp": 1626201078697,
          "user_tz": 420,
          "elapsed": 4827,
          "user": {
            "displayName": "Besim Avci",
            "photoUrl": "https://lh3.googleusercontent.com/a/default-user=s64",
            "userId": "02966828462576281185"
          }
        }
      },
      "source": [
        "#@title imports\n",
        "import collections\n",
        "import os\n",
        "import time\n",
        "import zipfile\n",
        "import numpy as np\n",
        "import pandas as pd\n",
        "\n",
        "from colabtools import adhoc_import\n",
        "from colabtools import drive\n",
        "from colabtools import googlefiles\n",
        "from google3.pyglib import resources\n",
        "from google3.pyglib import gfile\n",
        "\n",
        "import seaborn as sns\n",
        "from scipy.stats import pearsonr\n",
        "\n",
        "from sklearn import tree\n",
        "from sklearn.compose import ColumnTransformer\n",
        "from sklearn.ensemble import RandomForestClassifier, GradientBoostingClassifier\n",
        "from sklearn.linear_model import SGDClassifier, LogisticRegression\n",
        "from sklearn.model_selection import train_test_split\n",
        "from sklearn.preprocessing import OneHotEncoder, FunctionTransformer, StandardScaler\n",
        "from sklearn.pipeline import Pipeline\n",
        "from sklearn.linear_model import LinearRegression\n",
        "from sklearn import utils\n",
        "\n",
        "\n",
        "import time\n",
        "from sortedcontainers import SortedList\n",
        "from sklearn.metrics import roc_auc_score\n",
        "from sklearn.metrics import mean_squared_error\n",
        "from sklearn.metrics import log_loss\n",
        "\n",
        "from matplotlib import pyplot as plt"
      ],
      "execution_count": 1,
      "outputs": []
    },
    {
      "cell_type": "markdown",
      "metadata": {
        "id": "ZISo48OAiSYT"
      },
      "source": [
        "We analyze three different binary classification tasks.\n",
        "The next sections sets up the data; you can modify this set up to analyze your own model."
      ]
    },
    {
      "cell_type": "markdown",
      "metadata": {
        "id": "jzr30Fo_IhWM"
      },
      "source": [
        "#data"
      ]
    },
    {
      "cell_type": "code",
      "metadata": {
        "id": "hIIc9N-TIhWN",
        "executionInfo": {
          "status": "ok",
          "timestamp": 1626201078814,
          "user_tz": 420,
          "elapsed": 57,
          "user": {
            "displayName": "Besim Avci",
            "photoUrl": "https://lh3.googleusercontent.com/a/default-user=s64",
            "userId": "02966828462576281185"
          }
        },
        "outputId": "895cfad4-4ea0-4665-9072-0c3435e78e2d"
      },
      "source": [
        "DATASETS_DIR = '/tmp/datasets'\n",
        "! mkdir $DATASETS_DIR"
      ],
      "execution_count": 2,
      "outputs": [
        {
          "output_type": "stream",
          "text": [
            "mkdir: cannot create directory ‘/tmp/datasets’: File exists\n"
          ],
          "name": "stdout"
        }
      ]
    },
    {
      "cell_type": "code",
      "metadata": {
        "cellView": "form",
        "id": "8_mdGxotIhWN",
        "executionInfo": {
          "status": "ok",
          "timestamp": 1626201078894,
          "user_tz": 420,
          "elapsed": 22,
          "user": {
            "displayName": "Besim Avci",
            "photoUrl": "https://lh3.googleusercontent.com/a/default-user=s64",
            "userId": "02966828462576281185"
          }
        }
      },
      "source": [
        "#@title Data reading utils\n",
        "def read_from_drive(file_id, local_path):\n",
        "  byte_string = drive.LoadFile(file_id=file_id)\n",
        "  \n",
        "  with gfile.Open(local_path, 'wb') as f:\n",
        "    f.write(byte_string)\n",
        "\n",
        "def get_df_from_drive(file_id):\n",
        "  filepath = os.path.join(DATASETS_DIR, file_id)\n",
        "  read_from_drive(file_id, filepath)\n",
        "  return pd.read_csv(filepath)"
      ],
      "execution_count": 3,
      "outputs": []
    },
    {
      "cell_type": "markdown",
      "metadata": {
        "id": "30aNP1lEIhWN"
      },
      "source": [
        "## Preprocess"
      ]
    },
    {
      "cell_type": "code",
      "metadata": {
        "id": "0k07v86NIhWN",
        "cellView": "form",
        "executionInfo": {
          "status": "ok",
          "timestamp": 1626201079048,
          "user_tz": 420,
          "elapsed": 96,
          "user": {
            "displayName": "Besim Avci",
            "photoUrl": "https://lh3.googleusercontent.com/a/default-user=s64",
            "userId": "02966828462576281185"
          }
        }
      },
      "source": [
        "#@title Preprocess Functions\n",
        "\n",
        "def preprocess_lending(accepted):\n",
        "  missing_data = accepted.isnull().sum().sort_values(ascending=False)\n",
        "  drop_columns = list(missing_data[missing_data > accepted.shape[0] * 0.1].index) # drop columns where at least 10% of data is missing\n",
        "  accepted = accepted.drop(drop_columns, axis = 1)\n",
        "\n",
        "  accepted.term = accepted.term.apply(str)\n",
        "  accepted['term'] = accepted['term'].apply(lambda x: x.strip().split(\" \")[0])\n",
        "  accepted.issue_d = pd.to_datetime(accepted.issue_d)\n",
        "  accepted['issue_yr'] = accepted.issue_d.dt.year\n",
        "\n",
        "  accepted = accepted.drop(['title', 'funded_amnt'], axis = 1)\n",
        "  accepted = accepted.drop(['out_prncp_inv','total_rec_prncp','total_pymnt_inv'], axis = 1)\n",
        "  accepted = accepted.drop(['fico_range_low', 'last_fico_range_low',\n",
        "                          'avg_cur_bal',\n",
        "                          'addr_state', 'initial_list_status', 'pymnt_plan',\n",
        "                          'application_type', 'hardship_flag', 'disbursement_method',\n",
        "                            'debt_settlement_flag','sub_grade',\n",
        "                          'zip_code', 'id','policy_code','tax_liens', 'tax_liens'], axis = 1)\n",
        "  \n",
        "  accepted.home_ownership = accepted.home_ownership.replace(['ANY', 'NONE','OTHER'], 'RENT')\n",
        "\n",
        "  accepted['earliest_cr_line'] = pd.to_datetime(accepted.earliest_cr_line)\n",
        "  accepted['early_cr_yr'] = accepted.earliest_cr_line.dt.year\n",
        "\n",
        "  median_year = accepted.emp_length.value_counts(ascending = False).index[0]\n",
        "  accepted.loc[:, 'emp_length'] = accepted.loc[:, 'emp_length'].fillna(median_year)\n",
        "\n",
        "  accepted.emp_length = accepted.emp_length.replace(['10+ years'], '10 years')\n",
        "  accepted.emp_length = accepted.emp_length.replace(['< 1 year'], '0 years')\n",
        "  accepted.emp_length = accepted.emp_length.apply(lambda x: int(str(x).split(' ')[0]))\n",
        "  accepted.loc[:, 'emp_title'] = accepted.loc[:, 'emp_title'].fillna('other')\n",
        "  accepted.emp_title = accepted.emp_title.apply(lambda x: x.lower())\n",
        "  accepted.emp_title = accepted.emp_title.replace(['lpn','registered nurse', 'rn'], 'nurse')\n",
        "\n",
        "  leq1mil = accepted['annual_inc'] <= 1e6\n",
        "  accepted = accepted[leq1mil]\n",
        "  accepted = accepted[accepted.dti < 100.0]\n",
        "  accepted['verified'] = accepted['verification_status'] == 'Verified'\n",
        "\n",
        "  # Eliminate active loans\n",
        "  accepted = accepted.loc[accepted.loan_status != 'Current', :]\n",
        "  # Set all targets to 1\n",
        "  accepted['target'] = 1\n",
        "  # Unpaid loans are set to 0.\n",
        "  accepted.loc[(accepted.loan_status == 'Fully Paid') | (accepted.loan_status == 'In Grace Period') \n",
        "              | (accepted.loan_status == 'Does not meet the credit policy. Status:Fully Paid')\n",
        "                  , 'target'] = 0\n",
        "\n",
        "  # Remove loan_status since it is the label.\n",
        "  # Remove emp title and url as they have too many unique values.\n",
        "  accepted = accepted.drop(['loan_status', 'emp_title', 'url'], axis=1)\n",
        "\n",
        "  # Drop features that may not be known to investors at the time of issue.\n",
        "  # from: https://www.kaggle.com/pileatedperch/predicting-charge-off-from-initial-listing-data\n",
        "  keep_cols = ['addr_state', 'annual_inc', 'application_type', 'dti',\n",
        "               'earliest_cr_line', 'early_cr_yr', 'emp_length', 'emp_title', 'fico_range_high',\n",
        "               'fico_range_low', 'grade', 'home_ownership', 'id',\n",
        "               'initial_list_status', 'installment', 'int_rate',\n",
        "               'issue_d', 'loan_amnt', 'loan_status', 'mort_acc', 'open_acc',\n",
        "               'pub_rec', 'pub_rec_bankruptcies', 'purpose', 'revol_bal',\n",
        "               'revol_util', 'sub_grade', 'target', 'term', 'title', 'total_acc',\n",
        "               'verification_status', 'verified', 'zip_code']\n",
        "  drop_cols = [col for col in accepted.columns if col not in keep_cols]\n",
        "  accepted.drop(labels=drop_cols, axis=1, inplace=True)\n",
        "  return accepted\n",
        "\n",
        "def preprocess_bank_marketing(df):\n",
        "  df['target'] = np.where(df.y=='yes', 1, 0)\n",
        "  del df['y']\n",
        "  return df\n",
        "\n",
        "def preprocess_census(df):\n",
        "  df.columns = [\n",
        "      \"Age\", \"WorkClass\", \"fnlwgt\", \"Education\", \"EducationNum\",\n",
        "      \"MaritalStatus\", \"Occupation\", \"Relationship\", \"Race\", \"Gender\",\n",
        "      \"CapitalGain\", \"CapitalLoss\", \"HoursPerWeek\", \"NativeCountry\", \"Income\"\n",
        "  ]\n",
        "  df.drop('fnlwgt', axis=1, inplace=True)\n",
        "  df['Income'] = np.where(df.Income == ' >50K', 1, 0)\n",
        "  return df"
      ],
      "execution_count": 4,
      "outputs": []
    },
    {
      "cell_type": "code",
      "metadata": {
        "id": "EDrCSqBYIhWO",
        "executionInfo": {
          "status": "ok",
          "timestamp": 1626201079132,
          "user_tz": 420,
          "elapsed": 25,
          "user": {
            "displayName": "Besim Avci",
            "photoUrl": "https://lh3.googleusercontent.com/a/default-user=s64",
            "userId": "02966828462576281185"
          }
        }
      },
      "source": [
        "LENDING_FILE_ID = '16z6xUwCB2LfHc_K24rU6DisGMhuJ-WQO'  # label: target\n",
        "BANK_MARKETING_FILE_ID = '1gcTcvXLJwl1UorLKFIf-fFe4iopuo2Zd'  # label: y\n",
        "CENSUS_FILE_ID = '1SYh_nA-NKPGtiAxn2rvaDdWWo7DxaOS2'  # label: Income"
      ],
      "execution_count": 5,
      "outputs": []
    },
    {
      "cell_type": "code",
      "metadata": {
        "cellView": "form",
        "id": "Yaww7SIjIhWO",
        "executionInfo": {
          "status": "ok",
          "timestamp": 1626201079205,
          "user_tz": 420,
          "elapsed": 15,
          "user": {
            "displayName": "Besim Avci",
            "photoUrl": "https://lh3.googleusercontent.com/a/default-user=s64",
            "userId": "02966828462576281185"
          }
        }
      },
      "source": [
        "#@title Dataset Parameters\n",
        "\n",
        "dataset = 'Census' #@param [\"Lending\", \"Bank Marketing\", \"Census\"]\n",
        "\n",
        "if dataset == 'Lending':\n",
        "  preprocess_fn = preprocess_lending\n",
        "  fileid = LENDING_FILE_ID\n",
        "  label_column = 'target'\n",
        "elif dataset == 'Bank Marketing':\n",
        "  preprocess_fn = preprocess_bank_marketing\n",
        "  fileid = BANK_MARKETING_FILE_ID\n",
        "  label_column = 'target'\n",
        "elif dataset == 'Census':\n",
        "  preprocess_fn = preprocess_census\n",
        "  fileid = CENSUS_FILE_ID\n",
        "  label_column = 'Income'"
      ],
      "execution_count": 6,
      "outputs": []
    },
    {
      "cell_type": "code",
      "metadata": {
        "colab": {
          "height": 51
        },
        "id": "9fvdateTIhWQ",
        "executionInfo": {
          "status": "ok",
          "timestamp": 1626201096335,
          "user_tz": 420,
          "elapsed": 17065,
          "user": {
            "displayName": "Besim Avci",
            "photoUrl": "https://lh3.googleusercontent.com/a/default-user=s64",
            "userId": "02966828462576281185"
          }
        },
        "outputId": "76c6bcc8-e802-40da-a238-3511bafe45d7"
      },
      "source": [
        "df = get_df_from_drive(fileid)\n",
        "df = preprocess_fn(df)\n",
        "\n",
        "# MANY ROWS MIGHT BE DROPPED\n",
        "df.dropna(inplace=True)"
      ],
      "execution_count": 7,
      "outputs": [
        {
          "output_type": "stream",
          "text": [
            "Beginning OAuth2 authorization process ...\n",
            "Authentication successful.\n"
          ],
          "name": "stdout"
        },
        {
          "output_type": "display_data",
          "data": {
            "text/plain": [
              "<IPython.core.display.Javascript at 0x7fc63f94a518>"
            ],
            "application/javascript": [
              "colab.output.allowEphemeralScripts = true;\n",
              "//# sourceURL=js_6e978dd043"
            ]
          },
          "metadata": {
            "tags": []
          }
        },
        {
          "output_type": "display_data",
          "data": {
            "text/plain": [
              "<IPython.core.display.HTML at 0x7fc63f94a518>"
            ],
            "text/html": [
              "<span id=\"eltpbid_844061709\"> <div id=\"tpbid_844061709\" style=\"background:lightgray;width:50%;border-radius:4pt;overflow:hidden;\"><div id=\"pbid_844061709\" style=\"background:dodgerblue;width:0%;\"><br/></div></div> </span>"
            ]
          },
          "metadata": {
            "tags": []
          }
        },
        {
          "output_type": "display_data",
          "data": {
            "text/plain": [
              "<IPython.core.display.Javascript at 0x7fc652eb50b8>"
            ],
            "application/javascript": [
              "$(\"#tpbid_844061709\")[0].remove()\n",
              "//# sourceURL=js_e8ca9c86e6"
            ]
          },
          "metadata": {
            "tags": []
          }
        }
      ]
    },
    {
      "cell_type": "markdown",
      "metadata": {
        "id": "0rcfNkchizQ5"
      },
      "source": [
        "We train three different models for each task, a large random forest, a small random forest and a logistic regression model. You can replace this with your model."
      ]
    },
    {
      "cell_type": "markdown",
      "metadata": {
        "id": "fDwPGIcuIhWR"
      },
      "source": [
        "#train"
      ]
    },
    {
      "cell_type": "code",
      "metadata": {
        "id": "nw-aWOjZIhWR",
        "cellView": "form",
        "executionInfo": {
          "status": "ok",
          "timestamp": 1626201127823,
          "user_tz": 420,
          "elapsed": 30,
          "user": {
            "displayName": "Besim Avci",
            "photoUrl": "https://lh3.googleusercontent.com/a/default-user=s64",
            "userId": "02966828462576281185"
          }
        }
      },
      "source": [
        "#@title Training utils\n",
        "\n",
        "def create_pipeline_with_one_hot(df: pd.DataFrame, model, label_name: str):\n",
        "  \"\"\"Creates a pipeline by converting categorical features to one hot.\n",
        "  \n",
        "  Date columns are being dropped and numeric columns as passed through.\n",
        "  \"\"\"\n",
        "  # Assuming the label is the last column\n",
        "  train_columns = df.columns.tolist()\n",
        "  train_columns.remove(label_name)\n",
        "  is_cat = np.array([dt.kind == 'O' for dt in df[train_columns].dtypes])\n",
        "  cat_cols = df[train_columns].columns.values[is_cat]\n",
        "  is_num = np.array([dt.kind == 'f' or dt.kind == 'i' for dt in df[train_columns].dtypes])\n",
        "  num_cols = df[train_columns].columns.values[is_num]\n",
        "  # Date columns are effectively dropped.\n",
        "  transformers = [\n",
        "      ('cat', OneHotEncoder(sparse=False, handle_unknown='ignore'), cat_cols),\n",
        "      ('num', FunctionTransformer(), num_cols)\n",
        "  ]\n",
        "  ct = ColumnTransformer(transformers=transformers)\n",
        "  return Pipeline([\n",
        "      ('ct', ct),\n",
        "      ('rf', model),\n",
        "  ])\n",
        "\n",
        "def split_data(df: pd.DataFrame, label_column: str):\n",
        "  \"\"\"Splits the dataframe into train and test.\n",
        "  Args:\n",
        "    df: Dataframe representing the whole dataset.\n",
        "    label_column: Name of the label column.\n",
        "  Returns: \n",
        "    Tuple of training features, test features, training labels, and test labels.\n",
        "  \"\"\"\n",
        "  return train_test_split(df[df.columns.difference([label_column])], df[label_column], test_size = 0.2, random_state = 42)\n",
        "\n",
        "def add_predictions_to_df(model, df, columns, suffix=''):\n",
        "  # To make this function idempotent\n",
        "  df_copy = df.copy()\n",
        "  df_copy['predictions' + suffix] = model.predict(df[columns])\n",
        "  df_copy['probabilities' + suffix] = model.predict_proba(df[columns])[:, 1]\n",
        "  return df_copy"
      ],
      "execution_count": 8,
      "outputs": []
    },
    {
      "cell_type": "code",
      "metadata": {
        "id": "sBm9jzaIIhWR",
        "executionInfo": {
          "status": "ok",
          "timestamp": 1626201194045,
          "user_tz": 420,
          "elapsed": 421,
          "user": {
            "displayName": "Besim Avci",
            "photoUrl": "https://lh3.googleusercontent.com/a/default-user=s64",
            "userId": "02966828462576281185"
          }
        }
      },
      "source": [
        "carry_around_dims = []"
      ],
      "execution_count": 17,
      "outputs": []
    },
    {
      "cell_type": "code",
      "metadata": {
        "id": "o_qicYLBIhWS",
        "executionInfo": {
          "status": "ok",
          "timestamp": 1626201194117,
          "user_tz": 420,
          "elapsed": 13,
          "user": {
            "displayName": "Besim Avci",
            "photoUrl": "https://lh3.googleusercontent.com/a/default-user=s64",
            "userId": "02966828462576281185"
          }
        }
      },
      "source": [
        "carry_around_df = df[carry_around_dims]\n",
        "df = df[df.columns.difference(carry_around_dims)]"
      ],
      "execution_count": 18,
      "outputs": []
    },
    {
      "cell_type": "markdown",
      "metadata": {
        "id": "NZoOL3rPIhWS"
      },
      "source": [
        "##logistic"
      ]
    },
    {
      "cell_type": "code",
      "metadata": {
        "id": "pNh6aj4MIhWS",
        "executionInfo": {
          "status": "ok",
          "timestamp": 1626201218428,
          "user_tz": 420,
          "elapsed": 1017,
          "user": {
            "displayName": "Besim Avci",
            "photoUrl": "https://lh3.googleusercontent.com/a/default-user=s64",
            "userId": "02966828462576281185"
          }
        },
        "outputId": "11b4344a-bd48-418c-e9e5-30c9acd4b5dd"
      },
      "source": [
        "pipe = create_pipeline_with_one_hot(df, LogisticRegression(random_state=1234, max_iter=100), label_column)\n",
        "train_features, test_features, train_labels, test_labels = split_data(df, label_column)\n",
        "\n",
        "_ = pipe.fit(train_features[train_features.columns.difference(carry_around_dims)], train_labels)"
      ],
      "execution_count": 20,
      "outputs": [
        {
          "output_type": "stream",
          "text": [
            "/usr/local/google/_blaze_besim/49cbd36a6f46e81b32ba2ad0d659c96d/execroot/google3/blaze-out/k8-fastbuild/bin/learning/deepmind/public/tools/ml_python/ml_notebook.runfiles/google3/third_party/py/sklearn/linear_model/_logistic.py:765: ConvergenceWarning: lbfgs failed to converge (status=1):\n",
            "STOP: TOTAL NO. of ITERATIONS REACHED LIMIT.\n",
            "\n",
            "Increase the number of iterations (max_iter) or scale the data as shown in:\n",
            "    https://scikit-learn.org/stable/modules/preprocessing.html\n",
            "Please also refer to the documentation for alternative solver options:\n",
            "    https://scikit-learn.org/stable/modules/linear_model.html#logistic-regression\n",
            "  extra_warning_msg=_LOGISTIC_SOLVER_CONVERGENCE_MSG)\n"
          ],
          "name": "stderr"
        }
      ]
    },
    {
      "cell_type": "code",
      "metadata": {
        "id": "DDm9SvZkIhWS",
        "executionInfo": {
          "status": "ok",
          "timestamp": 1626201218768,
          "user_tz": 420,
          "elapsed": 272,
          "user": {
            "displayName": "Besim Avci",
            "photoUrl": "https://lh3.googleusercontent.com/a/default-user=s64",
            "userId": "02966828462576281185"
          }
        }
      },
      "source": [
        "suffix = '_logistic'\n",
        "\n",
        "train_features = add_predictions_to_df(pipe, train_features, train_features.columns.difference(carry_around_dims), suffix)\n",
        "test_features = add_predictions_to_df(pipe, test_features, test_features.columns.difference(carry_around_dims), suffix)\n",
        "\n",
        "carry_around_df = carry_around_df.merge(pd.concat([train_features,test_features])[['predictions' + suffix, 'probabilities' + suffix]], right_index=True, left_index=True, suffixes=['',''])\n",
        "carry_around_dims += ['predictions' + suffix, 'probabilities' + suffix]"
      ],
      "execution_count": 21,
      "outputs": []
    },
    {
      "cell_type": "code",
      "metadata": {
        "id": "WmtbRG1xIhWS",
        "executionInfo": {
          "status": "ok",
          "timestamp": 1626201220963,
          "user_tz": 420,
          "elapsed": 25,
          "user": {
            "displayName": "Besim Avci",
            "photoUrl": "https://lh3.googleusercontent.com/a/default-user=s64",
            "userId": "02966828462576281185"
          }
        },
        "outputId": "7c75cad4-39bd-4894-803e-a00be00e7eb3"
      },
      "source": [
        "print(suffix + ' test auc: ', roc_auc_score(test_labels, test_features['probabilities' + suffix]))\n",
        "print(suffix + ' train auc: ', roc_auc_score(train_labels, train_features['probabilities' + suffix]))"
      ],
      "execution_count": 22,
      "outputs": [
        {
          "output_type": "stream",
          "text": [
            "_logistic test auc:  0.8792277839983712\n",
            "_logistic train auc:  0.8788654369820184\n"
          ],
          "name": "stdout"
        }
      ]
    },
    {
      "cell_type": "markdown",
      "metadata": {
        "id": "kT7P9Gj3IhWT"
      },
      "source": [
        "##random forest"
      ]
    },
    {
      "cell_type": "code",
      "metadata": {
        "id": "3AWAN9JXIhWT",
        "executionInfo": {
          "status": "ok",
          "timestamp": 1626201223565,
          "user_tz": 420,
          "elapsed": 1479,
          "user": {
            "displayName": "Besim Avci",
            "photoUrl": "https://lh3.googleusercontent.com/a/default-user=s64",
            "userId": "02966828462576281185"
          }
        }
      },
      "source": [
        "pipe = create_pipeline_with_one_hot(df, RandomForestClassifier(n_estimators=50, random_state=1234), label_column)\n",
        "\n",
        "_ = pipe.fit(train_features[train_features.columns.difference(carry_around_dims)], train_labels)"
      ],
      "execution_count": 23,
      "outputs": []
    },
    {
      "cell_type": "code",
      "metadata": {
        "id": "n8VX7UmAIhWT",
        "executionInfo": {
          "status": "ok",
          "timestamp": 1626201224468,
          "user_tz": 420,
          "elapsed": 850,
          "user": {
            "displayName": "Besim Avci",
            "photoUrl": "https://lh3.googleusercontent.com/a/default-user=s64",
            "userId": "02966828462576281185"
          }
        }
      },
      "source": [
        "suffix = '_forest'\n",
        "\n",
        "train_features = add_predictions_to_df(pipe, train_features, train_features.columns.difference(carry_around_dims), suffix)\n",
        "test_features = add_predictions_to_df(pipe, test_features, test_features.columns.difference(carry_around_dims), suffix)\n",
        "\n",
        "carry_around_df = carry_around_df.merge(pd.concat([train_features,test_features])[['predictions' + suffix, 'probabilities' + suffix]], right_index=True, left_index=True, suffixes=['',''])\n",
        "carry_around_dims += ['predictions' + suffix, 'probabilities' + suffix]"
      ],
      "execution_count": 24,
      "outputs": []
    },
    {
      "cell_type": "code",
      "metadata": {
        "id": "BJOhBhqGIhWT",
        "executionInfo": {
          "status": "ok",
          "timestamp": 1626201224553,
          "user_tz": 420,
          "elapsed": 22,
          "user": {
            "displayName": "Besim Avci",
            "photoUrl": "https://lh3.googleusercontent.com/a/default-user=s64",
            "userId": "02966828462576281185"
          }
        },
        "outputId": "663cb07e-8e1e-4349-ceef-79d47f627906"
      },
      "source": [
        "print(suffix + ' test auc: ', roc_auc_score(test_labels, test_features['probabilities' + suffix]))\n",
        "print(suffix + ' train auc: ', roc_auc_score(train_labels, train_features['probabilities' + suffix]))"
      ],
      "execution_count": 25,
      "outputs": [
        {
          "output_type": "stream",
          "text": [
            "_forest test auc:  0.8921728038477198\n",
            "_forest train auc:  0.9974539961970948\n"
          ],
          "name": "stdout"
        }
      ]
    },
    {
      "cell_type": "markdown",
      "metadata": {
        "id": "kibxhgm1IhWU"
      },
      "source": [
        "##simple random forest"
      ]
    },
    {
      "cell_type": "code",
      "metadata": {
        "id": "LdcUxj69v8kw",
        "executionInfo": {
          "status": "ok",
          "timestamp": 1626201224627,
          "user_tz": 420,
          "elapsed": 6,
          "user": {
            "displayName": "Besim Avci",
            "photoUrl": "https://lh3.googleusercontent.com/a/default-user=s64",
            "userId": "02966828462576281185"
          }
        }
      },
      "source": [
        "if dataset == 'Lending':\n",
        "  simple_columns = ['fico_range_high', 'int_rate', 'loan_amnt', 'purpose', 'target']\n",
        "elif dataset == 'Census':\n",
        "  simple_columns = ['CapitalGain', 'Age', 'EducationNum', 'Income']"
      ],
      "execution_count": 26,
      "outputs": []
    },
    {
      "cell_type": "code",
      "metadata": {
        "id": "B_HKI5H8IhWU",
        "executionInfo": {
          "status": "ok",
          "timestamp": 1626201224802,
          "user_tz": 420,
          "elapsed": 14,
          "user": {
            "displayName": "Besim Avci",
            "photoUrl": "https://lh3.googleusercontent.com/a/default-user=s64",
            "userId": "02966828462576281185"
          }
        }
      },
      "source": [
        "df_simple = df[simple_columns]"
      ],
      "execution_count": 27,
      "outputs": []
    },
    {
      "cell_type": "code",
      "metadata": {
        "id": "ZgjBdK4OIhWU",
        "executionInfo": {
          "status": "ok",
          "timestamp": 1626201225847,
          "user_tz": 420,
          "elapsed": 988,
          "user": {
            "displayName": "Besim Avci",
            "photoUrl": "https://lh3.googleusercontent.com/a/default-user=s64",
            "userId": "02966828462576281185"
          }
        }
      },
      "source": [
        "pipe = create_pipeline_with_one_hot(df_simple, RandomForestClassifier(\n",
        "    n_estimators=100, max_depth=5, bootstrap=False, max_features=None, random_state=1234), label_column)\n",
        "train_features, test_features, train_labels, test_labels = split_data(df_simple, label_column)\n",
        "\n",
        "_ = pipe.fit(train_features[train_features.columns.difference(carry_around_dims)], train_labels)"
      ],
      "execution_count": 28,
      "outputs": []
    },
    {
      "cell_type": "code",
      "metadata": {
        "id": "6G1Bsd1aIhWU",
        "executionInfo": {
          "status": "ok",
          "timestamp": 1626201226063,
          "user_tz": 420,
          "elapsed": 4,
          "user": {
            "displayName": "Besim Avci",
            "photoUrl": "https://lh3.googleusercontent.com/a/default-user=s64",
            "userId": "02966828462576281185"
          }
        }
      },
      "source": [
        "suffix = '_simple'"
      ],
      "execution_count": 29,
      "outputs": []
    },
    {
      "cell_type": "code",
      "metadata": {
        "id": "otO-iSGY3QcW",
        "executionInfo": {
          "status": "ok",
          "timestamp": 1626201226644,
          "user_tz": 420,
          "elapsed": 442,
          "user": {
            "displayName": "Besim Avci",
            "photoUrl": "https://lh3.googleusercontent.com/a/default-user=s64",
            "userId": "02966828462576281185"
          }
        }
      },
      "source": [
        "train_features = add_predictions_to_df(pipe, train_features, train_features.columns.difference(carry_around_dims), suffix)\n",
        "test_features = add_predictions_to_df(pipe, test_features, test_features.columns.difference(carry_around_dims), suffix)\n",
        "\n",
        "carry_around_df = carry_around_df.merge(pd.concat([train_features, test_features])[['predictions' + suffix, 'probabilities' + suffix]], right_index=True, left_index=True, suffixes=['',''])\n",
        "carry_around_dims += ['predictions' + suffix, 'probabilities' + suffix]"
      ],
      "execution_count": 30,
      "outputs": []
    },
    {
      "cell_type": "code",
      "metadata": {
        "id": "ZWMHMQcsIhWV",
        "executionInfo": {
          "status": "ok",
          "timestamp": 1626201226836,
          "user_tz": 420,
          "elapsed": 22,
          "user": {
            "displayName": "Besim Avci",
            "photoUrl": "https://lh3.googleusercontent.com/a/default-user=s64",
            "userId": "02966828462576281185"
          }
        },
        "outputId": "b9bbaafe-b755-41c5-bbc1-25a5984aac0d"
      },
      "source": [
        "print(suffix + ' test auc: ', roc_auc_score(test_labels, test_features['probabilities' + suffix]))\n",
        "print(suffix + ' train auc: ', roc_auc_score(train_labels, train_features['probabilities' + suffix]))"
      ],
      "execution_count": 31,
      "outputs": [
        {
          "output_type": "stream",
          "text": [
            "_simple test auc:  0.8331229005496742\n",
            "_simple train auc:  0.8300811976738806\n"
          ],
          "name": "stdout"
        }
      ]
    },
    {
      "cell_type": "markdown",
      "metadata": {
        "id": "JcWtdnTmIhWV"
      },
      "source": [
        "##merge carry around features"
      ]
    },
    {
      "cell_type": "code",
      "metadata": {
        "id": "UK4ra4AzIhWV",
        "executionInfo": {
          "status": "ok",
          "timestamp": 1626201227085,
          "user_tz": 420,
          "elapsed": 32,
          "user": {
            "displayName": "Besim Avci",
            "photoUrl": "https://lh3.googleusercontent.com/a/default-user=s64",
            "userId": "02966828462576281185"
          }
        }
      },
      "source": [
        "train_features, test_features, train_labels, test_labels = split_data(df, label_column)"
      ],
      "execution_count": 32,
      "outputs": []
    },
    {
      "cell_type": "code",
      "metadata": {
        "id": "SeISQPOPIhWV",
        "executionInfo": {
          "status": "ok",
          "timestamp": 1626201227434,
          "user_tz": 420,
          "elapsed": 49,
          "user": {
            "displayName": "Besim Avci",
            "photoUrl": "https://lh3.googleusercontent.com/a/default-user=s64",
            "userId": "02966828462576281185"
          }
        }
      },
      "source": [
        "train_features = train_features.merge(carry_around_df, left_index=True, right_index=True, suffixes=['',''])\n",
        "test_features = test_features.merge(carry_around_df, left_index=True, right_index=True, suffixes=['',''])\n",
        "# Add labels to the dataframe\n",
        "train_features[label_column] = train_labels\n",
        "test_features[label_column] = test_labels"
      ],
      "execution_count": 33,
      "outputs": []
    },
    {
      "cell_type": "markdown",
      "metadata": {
        "id": "xlWI0BP-jCDI"
      },
      "source": [
        "We perform AUC attribution for individual examples. We also compute attributions for log loss and gini impurity; these are the objective functions of logistic regression and random-forests respectively."
      ]
    },
    {
      "cell_type": "markdown",
      "metadata": {
        "id": "B-yKj95rIhWW"
      },
      "source": [
        "#attribution"
      ]
    },
    {
      "cell_type": "code",
      "metadata": {
        "id": "cLxfFAq3IhWW",
        "cellView": "form",
        "executionInfo": {
          "status": "ok",
          "timestamp": 1626201228682,
          "user_tz": 420,
          "elapsed": 69,
          "user": {
            "displayName": "Besim Avci",
            "photoUrl": "https://lh3.googleusercontent.com/a/default-user=s64",
            "userId": "02966828462576281185"
          }
        }
      },
      "source": [
        "#@title AUC attribution\n",
        "\n",
        "def calculate_auc_attribution(positive_scores, negative_scores):\n",
        "  \"\"\"Makes AUC attributions to each input point.\n",
        "\n",
        "  Args:\n",
        "    positive_scores: Sorted list of predictions for the positive class.\n",
        "    negative_scores: Sorted list of predictions for the negative class.\n",
        "  Returns:\n",
        "    Tuple of attributions for positive scores and negative scores respectively.  \n",
        "  \"\"\"\n",
        "  neg_attrs, pos_attrs = [], []\n",
        "  neg_index, pos_index = 0, 0\n",
        "  while True:\n",
        "    if positive_scores[pos_index] > negative_scores[neg_index]:\n",
        "      neg_attrs.append(pos_index)\n",
        "      neg_index += 1\n",
        "    elif positive_scores[pos_index] < negative_scores[neg_index]:\n",
        "      pos_attrs.append(neg_index)\n",
        "      pos_index += 1\n",
        "    else:  # Tie\n",
        "      # Advance both at the same time.\n",
        "      next_pos_tie_index = pos_index\n",
        "      for next_pos_tie_index in range(pos_index, len(positive_scores)):\n",
        "        if positive_scores[next_pos_tie_index] != negative_scores[neg_index]:\n",
        "          break\n",
        "      else:\n",
        "        next_pos_tie_index = len(positive_scores)\n",
        "      next_neg_tie_index = neg_index\n",
        "      for next_neg_tie_index in range(neg_index, len(negative_scores)):\n",
        "        if negative_scores[next_neg_tie_index] != positive_scores[pos_index]:\n",
        "          break\n",
        "      else:\n",
        "        next_neg_tie_index = len(negative_scores)\n",
        "      pos_attr = neg_index + (next_neg_tie_index - neg_index) * 0.5\n",
        "      neg_attr = pos_index + (next_pos_tie_index - pos_index) * 0.5\n",
        "      for i in range(neg_index, next_neg_tie_index):\n",
        "        neg_attrs.append(neg_attr)\n",
        "      for i in range(pos_index, next_pos_tie_index):\n",
        "        pos_attrs.append(pos_attr)\n",
        "      neg_index = next_neg_tie_index\n",
        "      pos_index = next_pos_tie_index\n",
        "\n",
        "    # One group is exhausted. Attribute the unfinished list.\n",
        "    if pos_index == len(positive_scores):\n",
        "      for i in range(neg_index, len(negative_scores)):\n",
        "        neg_attrs.append(pos_index)\n",
        "      break\n",
        "    if neg_index == len(negative_scores):\n",
        "      for i in range(pos_index, len(positive_scores)):\n",
        "        pos_attrs.append(neg_index)\n",
        "      break\n",
        "\n",
        "  total_pairs = len(positive_scores) * len(negative_scores) * 2  # DIVIDE BY 2.\n",
        "\n",
        "  adjusted_neg_attrs = []\n",
        "  for neg_attr in neg_attrs:\n",
        "    adjusted_neg_attrs.append(len(positive_scores) - neg_attr)\n",
        "  return np.array(pos_attrs) / total_pairs, np.array(adjusted_neg_attrs) / total_pairs\n",
        "\n",
        "def add_auc_attributions_to_df(df, suffix):\n",
        "  \"\"\"Adds auc attributions for each example as a new column named auc_attr_*.\"\"\"\n",
        "  print('AUC score for the given Dataframe: %f.' % roc_auc_score(\n",
        "      df[label_column], df['probabilities' + suffix]))\n",
        "  negative_cases = df[df[label_column] == 0]\n",
        "  positive_cases = df[df[label_column] == 1]\n",
        "  negative_cases = negative_cases.sort_values('probabilities' + suffix)\n",
        "  positive_cases = positive_cases.sort_values('probabilities' + suffix)\n",
        "  p, n = calculate_auc_attribution(\n",
        "      positive_cases['probabilities' + suffix].tolist(),\n",
        "       negative_cases['probabilities' + suffix].tolist())\n",
        "  print('Sum of AUC attributions: %f.' % (np.sum(n) + np.sum(p)))\n",
        "  positive_cases['auc_attr' + suffix] = p\n",
        "  negative_cases['auc_attr' + suffix] = n\n",
        "  return positive_cases.append(negative_cases, ignore_index=False)"
      ],
      "execution_count": 34,
      "outputs": []
    },
    {
      "cell_type": "code",
      "metadata": {
        "id": "b1LJEYgVIhWX",
        "cellView": "form",
        "executionInfo": {
          "status": "ok",
          "timestamp": 1626201229114,
          "user_tz": 420,
          "elapsed": 101,
          "user": {
            "displayName": "Besim Avci",
            "photoUrl": "https://lh3.googleusercontent.com/a/default-user=s64",
            "userId": "02966828462576281185"
          }
        },
        "outputId": "1220df4b-a487-40b6-a266-68f1eb37d365"
      },
      "source": [
        "#@title Attach attribution scores\n",
        "\n",
        "def add_auc_attributions_fraction_of_pairs(df, label_column, suffix):\n",
        "  \"\"\"Normalize AUC attribution based on positive and negative counts.\"\"\"\n",
        "  p = np.sum(df[label_column] == 1)\n",
        "  n = np.sum(df[label_column] == 0)\n",
        "  weight = np.where(df[label_column] == 1, p, n)\n",
        "  \n",
        "  df['auc_frac_attr' + suffix] = df['auc_attr' + suffix] * weight\n",
        "  return df \n",
        "\n",
        "test_features = add_auc_attributions_to_df(test_features, \"_logistic\")\n",
        "test_features = add_auc_attributions_to_df(test_features, \"_forest\")\n",
        "test_features = add_auc_attributions_to_df(test_features, \"_simple\")\n",
        "\n",
        "test_features = add_auc_attributions_fraction_of_pairs(\n",
        "    test_features, label_column, \"_logistic\")\n",
        "test_features = add_auc_attributions_fraction_of_pairs(\n",
        "    test_features, label_column, \"_forest\")\n",
        "test_features = add_auc_attributions_fraction_of_pairs(\n",
        "    test_features, label_column, \"_simple\")\n",
        "\n",
        "# Scale up attributions to avoid numerical instability.\n",
        "multiplier = np.sum(df[label_column] == 1) * np.sum(df[label_column] == 0)\n",
        "test_features['auc_attr' + '_logistic'] *= multiplier\n",
        "test_features['auc_attr' + '_forest'] *= multiplier\n",
        "test_features['auc_attr' + '_simple'] *= multiplier"
      ],
      "execution_count": 35,
      "outputs": [
        {
          "output_type": "stream",
          "text": [
            "AUC score for the given Dataframe: 0.879228.\n",
            "Sum of AUC attributions: 0.879228.\n",
            "AUC score for the given Dataframe: 0.892173.\n",
            "Sum of AUC attributions: 0.892173.\n",
            "AUC score for the given Dataframe: 0.833123.\n",
            "Sum of AUC attributions: 0.833123.\n"
          ],
          "name": "stdout"
        }
      ]
    },
    {
      "cell_type": "code",
      "metadata": {
        "id": "USe1SUErIhWY",
        "cellView": "form",
        "executionInfo": {
          "status": "ok",
          "timestamp": 1626201229913,
          "user_tz": 420,
          "elapsed": 30,
          "user": {
            "displayName": "Besim Avci",
            "photoUrl": "https://lh3.googleusercontent.com/a/default-user=s64",
            "userId": "02966828462576281185"
          }
        }
      },
      "source": [
        "#@title LogLoss attribution\n",
        "def logloss(true_label, predicted, eps=1e-15):\n",
        "  p = np.clip(predicted, eps, 1 - eps)\n",
        "  return np.where(true_label == 1, -np.log(p), -np.log(1-p))\n",
        "  if true_label == 1:\n",
        "    return -np.log(p)\n",
        "  else:\n",
        "    return -np.log(1 - p)\n",
        "\n",
        "test_features['logloss_logistic'] = logloss(test_features[label_column], test_features.probabilities_logistic)\n",
        "test_features['logloss_forest'] = logloss(test_features[label_column], test_features.probabilities_forest)\n",
        "test_features['logloss_simple'] = logloss(test_features[label_column], test_features.probabilities_simple)\n",
        " "
      ],
      "execution_count": 36,
      "outputs": []
    },
    {
      "cell_type": "code",
      "metadata": {
        "id": "I0ibEUbTIhWY",
        "executionInfo": {
          "status": "ok",
          "timestamp": 1626201230718,
          "user_tz": 420,
          "elapsed": 9,
          "user": {
            "displayName": "Besim Avci",
            "photoUrl": "https://lh3.googleusercontent.com/a/default-user=s64",
            "userId": "02966828462576281185"
          }
        },
        "outputId": "972a3998-3e48-40f0-b239-fce53cd1ae20"
      },
      "source": [
        "print(np.mean(test_features.logloss_logistic))\n",
        "print(np.mean(test_features.logloss_forest))\n",
        "print(np.mean(test_features.logloss_simple))"
      ],
      "execution_count": 37,
      "outputs": [
        {
          "output_type": "stream",
          "text": [
            "0.35954021690426646\n",
            "0.5410857578550053\n",
            "0.39155512831437234\n"
          ],
          "name": "stdout"
        }
      ]
    },
    {
      "cell_type": "code",
      "metadata": {
        "cellView": "form",
        "id": "qCjzP2-N0XD8",
        "executionInfo": {
          "status": "ok",
          "timestamp": 1626201231521,
          "user_tz": 420,
          "elapsed": 9,
          "user": {
            "displayName": "Besim Avci",
            "photoUrl": "https://lh3.googleusercontent.com/a/default-user=s64",
            "userId": "02966828462576281185"
          }
        }
      },
      "source": [
        "# @title Gini attribution\n",
        "def gini_attribution(df, suffix):\n",
        "  assert 'probabilities' + suffix in df, \"probabilities not in the df.\"\n",
        "  df['gini' + suffix] = (\n",
        "      (1 - df[label_column]) * df['probabilities' + suffix] + \n",
        "      df[label_column] * (1 - df['probabilities' + suffix]))\n",
        "  return df\n",
        "\n",
        "test_features = gini_attribution(test_features, '_logistic')\n",
        "test_features = gini_attribution(test_features, '_forest')\n",
        "test_features = gini_attribution(test_features, '_simple')"
      ],
      "execution_count": 38,
      "outputs": []
    },
    {
      "cell_type": "code",
      "metadata": {
        "id": "dEZbKYL_1m_i",
        "executionInfo": {
          "status": "ok",
          "timestamp": 1626201232142,
          "user_tz": 420,
          "elapsed": 6,
          "user": {
            "displayName": "Besim Avci",
            "photoUrl": "https://lh3.googleusercontent.com/a/default-user=s64",
            "userId": "02966828462576281185"
          }
        },
        "outputId": "5468c79d-834d-4da8-e000-b404d2c331aa"
      },
      "source": [
        "print(test_features.gini_logistic.mean())\n",
        "print(test_features.gini_forest.mean())\n",
        "print(test_features.gini_simple.mean())"
      ],
      "execution_count": 39,
      "outputs": [
        {
          "output_type": "stream",
          "text": [
            "0.23980073063057955\n",
            "0.1934329261338178\n",
            "0.25353388081119704\n"
          ],
          "name": "stdout"
        }
      ]
    },
    {
      "cell_type": "code",
      "metadata": {
        "cellView": "form",
        "id": "Uk4OaHYN8Gmr",
        "executionInfo": {
          "status": "ok",
          "timestamp": 1626201235262,
          "user_tz": 420,
          "elapsed": 32,
          "user": {
            "displayName": "Besim Avci",
            "photoUrl": "https://lh3.googleusercontent.com/a/default-user=s64",
            "userId": "02966828462576281185"
          }
        },
        "outputId": "ba7bdc21-cdd1-4f3b-93ad-c4875fbd2196"
      },
      "source": [
        "# @title Print metrics for each model.\n",
        "print(\"AUC Score\")\n",
        "print(\"Random Forest:\", roc_auc_score(test_features[label_column], test_features.probabilities_forest))\n",
        "print(\"Logistic Regression:\", roc_auc_score(test_features[label_column], test_features.probabilities_logistic))\n",
        "print(\"Simple Model:\", roc_auc_score(test_features[label_column], test_features.probabilities_simple))\n",
        "\n",
        "print(\"Logloss\")\n",
        "print(\"Random Forest:\", test_features.logloss_forest.mean())\n",
        "print(\"Logistic Regression:\", test_features.logloss_logistic.mean())\n",
        "print(\"Simple Model:\", test_features.logloss_simple.mean())\n",
        "\n",
        "print(\"GINI\")\n",
        "print(\"Random Forest:\", test_features.gini_forest.mean())\n",
        "print(\"Logistic Regression:\", test_features.gini_logistic.mean())\n",
        "print(\"Simple Model:\", test_features.gini_simple.mean())"
      ],
      "execution_count": 40,
      "outputs": [
        {
          "output_type": "stream",
          "text": [
            "AUC Score\n",
            "Random Forest: 0.8921728038477198\n",
            "Logistic Regression: 0.8792277839983712\n",
            "Simple Model: 0.8331229005496742\n",
            "Logloss\n",
            "Random Forest: 0.5410857578550053\n",
            "Logistic Regression: 0.35954021690426646\n",
            "Simple Model: 0.39155512831437234\n",
            "GINI\n",
            "Random Forest: 0.1934329261338178\n",
            "Logistic Regression: 0.23980073063057955\n",
            "Simple Model: 0.25353388081119704\n"
          ],
          "name": "stdout"
        }
      ]
    },
    {
      "cell_type": "markdown",
      "metadata": {
        "id": "TNRbfW-VjmVf"
      },
      "source": [
        "Next, we slice the AUC attributions using a single decision tree"
      ]
    },
    {
      "cell_type": "markdown",
      "metadata": {
        "id": "ZcSkuioFIhWZ"
      },
      "source": [
        "#Slice"
      ]
    },
    {
      "cell_type": "markdown",
      "metadata": {
        "id": "9W6yniybIhWW"
      },
      "source": [
        "#slicing tree"
      ]
    },
    {
      "cell_type": "code",
      "metadata": {
        "id": "QabFTStUIhWW",
        "cellView": "form",
        "executionInfo": {
          "status": "ok",
          "timestamp": 1626201242891,
          "user_tz": 420,
          "elapsed": 34,
          "user": {
            "displayName": "Besim Avci",
            "photoUrl": "https://lh3.googleusercontent.com/a/default-user=s64",
            "userId": "02966828462576281185"
          }
        }
      },
      "source": [
        "#@title Build Tree function\n",
        "def build_tree(df: pd.DataFrame, target_column: str, input_columns, \n",
        "               min_samples_leaf=5000, max_depth=3):\n",
        "  \"\"\"Builds a slicing tree.\n",
        "  \n",
        "  Returns:\n",
        "    A tuple of the tree itself and the feature names.\n",
        "  \"\"\"\n",
        "  is_cat = np.array([dt.kind == 'O' for dt in df[input_columns].dtypes])\n",
        "  cat_cols = df[input_columns].columns.values[is_cat]\n",
        "  is_num = np.array([dt.kind == 'f' or dt.kind == 'i' for dt in df[input_columns].dtypes])\n",
        "  num_cols = df[input_columns].columns.values[is_num]\n",
        "  # Date and other type of columns are effectively dropped.\n",
        "  transformers = [\n",
        "      ('cat', OneHotEncoder(sparse=False, handle_unknown='ignore'), cat_cols),\n",
        "      ('num', FunctionTransformer(), num_cols)\n",
        "  ]\n",
        "  ct = ColumnTransformer(transformers=transformers)\n",
        "  treg = tree.DecisionTreeRegressor(min_samples_leaf=min_samples_leaf, max_depth=max_depth,\n",
        "                                    random_state=1234)\n",
        "  treg.fit(ct.fit_transform(df[input_columns]), df[target_column])\n",
        "  if len(cat_cols) > 0:\n",
        "    feature_names = ct.transformers_[0][1].get_feature_names(cat_cols).tolist()\n",
        "  else:\n",
        "    feature_names = []\n",
        "  feature_names += num_cols.tolist()\n",
        "  return treg, feature_names, ct"
      ],
      "execution_count": 41,
      "outputs": []
    },
    {
      "cell_type": "code",
      "metadata": {
        "id": "qseNQdohTnac",
        "cellView": "form",
        "executionInfo": {
          "status": "ok",
          "timestamp": 1626201291523,
          "user_tz": 420,
          "elapsed": 783,
          "user": {
            "displayName": "Besim Avci",
            "photoUrl": "https://lh3.googleusercontent.com/a/default-user=s64",
            "userId": "02966828462576281185"
          }
        }
      },
      "source": [
        "#@title Per Node Plotting Utils\n",
        "\n",
        "from sklearn.tree._export import _MPLTreeExporter\n",
        "from sklearn.tree import _criterion\n",
        "from sklearn.tree import _export\n",
        "from sklearn.tree import _tree\n",
        "from scipy import stats\n",
        "\n",
        "\n",
        "class _MPLTreeExporterOverride(_MPLTreeExporter):\n",
        "  def node_to_str(self, tree, node_id, criterion):\n",
        "      # Generate the node content string\n",
        "      if tree.n_outputs == 1:\n",
        "          value = tree.value[node_id][0, :]\n",
        "      else:\n",
        "          value = tree.value[node_id]\n",
        "\n",
        "      # Should labels be shown?\n",
        "      labels = (self.label == 'root' and node_id == 0) or self.label == 'all'\n",
        "\n",
        "      characters = self.characters\n",
        "      node_string = characters[-1]\n",
        "\n",
        "      # Write node ID\n",
        "      if self.node_ids:\n",
        "          if labels:\n",
        "              node_string += 'node '\n",
        "          node_string += characters[0] + str(node_id) + characters[4]\n",
        "\n",
        "      # Write decision criteria\n",
        "      if tree.children_left[node_id] != _tree.TREE_LEAF:\n",
        "          # Always write node decision criteria, except for leaves\n",
        "          if self.feature_names is not None:\n",
        "              feature = self.feature_names[tree.feature[node_id]]\n",
        "          else:\n",
        "              feature = \"X%s%s%s\" % (characters[1],\n",
        "                                      tree.feature[node_id],\n",
        "                                      characters[2])\n",
        "          node_string += '%s %s %s%s' % (feature,\n",
        "                                          characters[3],\n",
        "                                          round(tree.threshold[node_id],\n",
        "                                                self.precision),\n",
        "                                          characters[4])\n",
        "\n",
        "      # Don't Write impurity\n",
        "      \"\"\"\n",
        "      if self.impurity:\n",
        "          if isinstance(criterion, _criterion.FriedmanMSE):\n",
        "              criterion = \"friedman_mse\"\n",
        "          elif not isinstance(criterion, str):\n",
        "              criterion = \"impurity\"\n",
        "          if labels:\n",
        "              node_string += '%s = ' % criterion\n",
        "          node_string += (str(round(tree.impurity[node_id], self.precision))\n",
        "                          + characters[4])\n",
        "      \"\"\"\n",
        "\n",
        "      # Write node sample count\n",
        "      if labels:\n",
        "          node_string += 'samples = '\n",
        "      if self.proportion:\n",
        "          percent = (100. * tree.n_node_samples[node_id] /\n",
        "                      float(tree.n_node_samples[0]))\n",
        "          node_string += (str(round(percent, 1)) + '%' +\n",
        "                          characters[4])\n",
        "      else:\n",
        "          node_string += (str(tree.n_node_samples[node_id]) +\n",
        "                          characters[4])\n",
        "\n",
        "      ### OVERRIDE CHANGE BEGIN\n",
        "      if self.base_metric_per_node:\n",
        "        node_string += '%s = ' % self.base_metric_name\n",
        "        node_string += str(\n",
        "            round(np.mean(\n",
        "                self.base_metric_per_node[node_id]), 5)) + characters[4]\n",
        "      if self.honest_metric_per_node:\n",
        "        node_string += '%s (honest) = ' % self.metric_name\n",
        "        node_string += str(\n",
        "            round(np.mean(\n",
        "                self.honest_metric_per_node[node_id]), 5)) + characters[4]\n",
        "      ### OVERRIDE CHANGE END\n",
        "\n",
        "      # Write node class distribution / regression value\n",
        "      if self.proportion and tree.n_classes[0] != 1:\n",
        "          # For classification this will show the proportion of samples\n",
        "          value = value / tree.weighted_n_node_samples[node_id]\n",
        "      if labels:\n",
        "          node_string += '%s = ' % self.metric_name  # Also OVERRIDE change.\n",
        "      if tree.n_classes[0] == 1:\n",
        "          # Regression\n",
        "          value_text = np.around(value, self.precision)\n",
        "      elif self.proportion:\n",
        "          # Classification\n",
        "          value_text = np.around(value, self.precision)\n",
        "      elif np.all(np.equal(np.mod(value, 1), 0)):\n",
        "          # Classification without floating-point weights\n",
        "          value_text = value.astype(int)\n",
        "      else:\n",
        "          # Classification with floating-point weights\n",
        "          value_text = np.around(value, self.precision)\n",
        "      # Strip whitespace\n",
        "      value_text = str(value_text.astype('S32')).replace(\"b'\", \"'\")\n",
        "      value_text = value_text.replace(\"' '\", \", \").replace(\"'\", \"\")\n",
        "      if tree.n_classes[0] == 1 and tree.n_outputs == 1:\n",
        "          value_text = value_text.replace(\"[\", \"\").replace(\"]\", \"\")\n",
        "      value_text = value_text.replace(\"\\n \", characters[4])\n",
        "      node_string += value_text + characters[4]\n",
        "\n",
        "      # Clean up any trailing newlines\n",
        "      if node_string.endswith(characters[4]):\n",
        "          node_string = node_string[:-len(characters[4])]\n",
        "\n",
        "      return node_string + characters[5]\n",
        "\n",
        "  def get_color(self, value, node_id):\n",
        "        # Find the appropriate color & intensity for a node\n",
        "        if self.colors['bounds'] is None:\n",
        "            # Classification tree\n",
        "            color = list(self.colors['rgb'][np.argmax(value)])\n",
        "            sorted_values = sorted(value, reverse=True)\n",
        "            if len(sorted_values) == 1:\n",
        "                alpha = 0\n",
        "            else:\n",
        "                alpha = ((sorted_values[0] - sorted_values[1])\n",
        "                         / (1 - sorted_values[1]))\n",
        "        else:\n",
        "            # Regression tree or multi-output\n",
        "            ### OVERRIDE ###\n",
        "            color = list(self.colors['rgb'][0])\n",
        "            alpha = ((value - self.colors['bounds'][0]) /\n",
        "                     (self.colors['bounds'][1] - self.colors['bounds'][0]))\n",
        "            if self.honest_metric_per_node:\n",
        "              # Get (1 - p-value) as the alpha.\n",
        "              if stats.ttest_ind(self.metric_per_node[node_id],\n",
        "                                 self.honest_metric_per_node[node_id])[1] < 0.05:\n",
        "                alpha = 1\n",
        "              else:\n",
        "                alpha = 0\n",
        "              # alpha = 1 - stats.ttest_ind(self.metric_per_node[node_id],\n",
        "              #                            self.honest_metric_per_node[node_id])[1]\n",
        "            ### OVERRIDE END ###\n",
        "        # unpack numpy scalars\n",
        "        alpha = float(alpha)\n",
        "        # compute the color as alpha against white\n",
        "        color = [int(round(alpha * c + (1 - alpha) * 255, 0)) for c in color]\n",
        "        # Return html color code in #RRGGBB format\n",
        "        return '#%2x%2x%2x' % tuple(color)\n",
        "\n",
        "  def get_fill_color(self, tree, node_id):\n",
        "        # Fetch appropriate color for node\n",
        "        if 'rgb' not in self.colors:\n",
        "            # Initialize colors and bounds if required\n",
        "            self.colors['rgb'] = _export._color_brew(tree.n_classes[0])\n",
        "            if tree.n_outputs != 1:\n",
        "                # Find max and min impurities for multi-output\n",
        "                self.colors['bounds'] = (np.min(-tree.impurity),\n",
        "                                         np.max(-tree.impurity))\n",
        "            elif (tree.n_classes[0] == 1 and\n",
        "                  len(np.unique(tree.value)) != 1):\n",
        "                # Find max and min values in leaf nodes for regression\n",
        "                self.colors['bounds'] = (np.min(tree.value),\n",
        "                                         np.max(tree.value))\n",
        "        if tree.n_outputs == 1:\n",
        "            node_val = (tree.value[node_id][0, :] /\n",
        "                        tree.weighted_n_node_samples[node_id])\n",
        "            if tree.n_classes[0] == 1:\n",
        "                # Regression\n",
        "                node_val = tree.value[node_id][0, :]\n",
        "        else:\n",
        "            # If multi-output color node by impurity\n",
        "            node_val = -tree.impurity[node_id]\n",
        "        return self.get_color(node_val, node_id)\n",
        "\n",
        "\n",
        "def get_samples_ids_through_node(tree, df):\n",
        "  \"\"\"Figures out which samples go through each node in a tree.\n",
        "  Returns a dictionary where the key is the node index, values is a list of\n",
        "  row numbers that go through that node.\n",
        "  \"\"\"\n",
        "  dec_paths = tree.decision_path(df)\n",
        "\n",
        "  samples = collections.defaultdict(list)\n",
        "  for d, dec in enumerate(dec_paths):\n",
        "    for i in range(tree.tree_.node_count):\n",
        "      if dec.toarray()[0][i] == 1:\n",
        "        samples[i].append(d) \n",
        "  return samples\n",
        "\n",
        "\n",
        "def get_metric_per_node(tree, tree_dims, df, metric_name, col_transformer=None):\n",
        "  \"\"\"Calculates the desired metric for each tree node.\"\"\"\n",
        "  if col_transformer:\n",
        "    feats = col_transformer.transform(df[tree_dims])\n",
        "  else:\n",
        "    feats = df[tree_dims]\n",
        "  sample_ids = get_samples_ids_through_node(tree, feats)\n",
        "\n",
        "  metric_per_node = []\n",
        "  for i in range(tree.tree_.node_count):\n",
        "    samples_through_node = df.iloc[sample_ids[i], :]\n",
        "    # metric_per_node.append(np.mean(samples_through_node[metric_name]))\n",
        "    metric_per_node.append(samples_through_node[metric_name])\n",
        "  return metric_per_node\n",
        "\n",
        "\n",
        "\n",
        "def plot_tree_override(decision_tree, *, max_depth=None, feature_names=None,\n",
        "              class_names=None, label='all', filled=False,\n",
        "              impurity=True, node_ids=False,\n",
        "              proportion=False, rotate='deprecated', rounded=False,\n",
        "              precision=3, ax=None, fontsize=None, decision_tree_dims=None,\n",
        "              test_features=None, column_transformer=None,\n",
        "              base_metric_to_record=None,\n",
        "              metric_name_override='value',\n",
        "              honest_sample=None, honest_metric=None):\n",
        "  exporter = _MPLTreeExporterOverride(\n",
        "      max_depth=max_depth, feature_names=feature_names,\n",
        "      class_names=class_names, label=label, filled=filled,\n",
        "      impurity=impurity, node_ids=node_ids,\n",
        "      proportion=proportion, rotate=rotate, rounded=rounded,\n",
        "      precision=precision, fontsize=fontsize)\n",
        "  \n",
        "\n",
        "  if base_metric_to_record:\n",
        "    exporter.base_metric_per_node = get_metric_per_node(decision_tree,\n",
        "                                                        decision_tree_dims,\n",
        "                                                        test_features,\n",
        "                                                        base_metric_to_record,\n",
        "                                                        column_transformer)\n",
        "  else:\n",
        "    exporter.base_metric_per_node = None\n",
        "  exporter.metric_per_node = get_metric_per_node(decision_tree,\n",
        "                                                 decision_tree_dims,\n",
        "                                                 test_features,\n",
        "                                                 metric_name_override,\n",
        "                                                 column_transformer)\n",
        "  if honest_sample is not None:\n",
        "    exporter.honest_metric_per_node = get_metric_per_node(decision_tree,\n",
        "                                                          decision_tree_dims,\n",
        "                                                          honest_sample,\n",
        "                                                          honest_metric,\n",
        "                                                          column_transformer)\n",
        "  else:\n",
        "    exporter.honest_metric_per_node = None\n",
        "\n",
        "  exporter.base_metric_name = base_metric_to_record\n",
        "  exporter.metric_name = metric_name_override\n",
        "  return exporter.export(decision_tree, ax=ax)"
      ],
      "execution_count": 43,
      "outputs": []
    },
    {
      "cell_type": "code",
      "metadata": {
        "id": "haKvz7Z2xSDq",
        "executionInfo": {
          "status": "ok",
          "timestamp": 1626201292359,
          "user_tz": 420,
          "elapsed": 21,
          "user": {
            "displayName": "Besim Avci",
            "photoUrl": "https://lh3.googleusercontent.com/a/default-user=s64",
            "userId": "02966828462576281185"
          }
        }
      },
      "source": [
        "test_features['delta_auc'] = (test_features['auc_attr_forest'] - test_features['auc_attr_simple']) * test_features.shape[0] \n",
        "test_features['delta_logloss'] = (test_features['logloss_forest'] - test_features['logloss_simple']) \n",
        "\n",
        "test_features['delta_auc'] = (test_features['auc_attr_forest'] - test_features['auc_attr_logistic']) * test_features.shape[0] \n",
        "test_features['delta_logloss'] = (test_features['logloss_forest'] - test_features['logloss_logistic'])\n",
        "test_features['normalized_auc_attribution'] = test_features['auc_frac_attr_forest']"
      ],
      "execution_count": 44,
      "outputs": []
    },
    {
      "cell_type": "code",
      "metadata": {
        "cellView": "form",
        "id": "XPyZre1zQ2H6",
        "executionInfo": {
          "status": "ok",
          "timestamp": 1626201293329,
          "user_tz": 420,
          "elapsed": 43,
          "user": {
            "displayName": "Besim Avci",
            "photoUrl": "https://lh3.googleusercontent.com/a/default-user=s64",
            "userId": "02966828462576281185"
          }
        }
      },
      "source": [
        "# @title Function for building and plotting the slicing tree.\n",
        "def build_and_plot_slicing_tree(df, slicing_metric, slicing_dims, base_metric=None,\n",
        "                                max_depth=3, min_samples_leaf=500,\n",
        "                                honest_reporting=False):\n",
        "  if honest_reporting:\n",
        "    honest_sample1, honest_sample2 = train_test_split(df, test_size=0.5)\n",
        "    tree_building_df = honest_sample1\n",
        "    honest_sample = honest_sample2\n",
        "  else:\n",
        "    tree_building_df = df\n",
        "    honest_sample = None\n",
        "  tt, fnames, ct = build_tree(\n",
        "      tree_building_df,\n",
        "      slicing_metric,\n",
        "      slicing_dims,\n",
        "      min_samples_leaf=min_samples_leaf,\n",
        "      max_depth=max_depth\n",
        "      )\n",
        "\n",
        "  # with plt.style.context('classic'):\n",
        "  plt.figure(figsize=(20, 5))\n",
        "  _ = plot_tree_override(tt, filled=True, fontsize=13,\n",
        "                        feature_names=fnames, precision=3,\n",
        "                        decision_tree_dims=slicing_dims,\n",
        "                        test_features=tree_building_df,\n",
        "                        column_transformer=ct,\n",
        "                        base_metric_to_record=base_metric,\n",
        "                        metric_name_override=slicing_metric,\n",
        "                        honest_sample=honest_sample,\n",
        "                        honest_metric=slicing_metric)"
      ],
      "execution_count": 45,
      "outputs": []
    },
    {
      "cell_type": "code",
      "metadata": {
        "colab": {
          "height": 375
        },
        "cellView": "form",
        "id": "zHRm0zeXRwUo",
        "executionInfo": {
          "status": "ok",
          "timestamp": 1626201299202,
          "user_tz": 420,
          "elapsed": 1372,
          "user": {
            "displayName": "Besim Avci",
            "photoUrl": "https://lh3.googleusercontent.com/a/default-user=s64",
            "userId": "02966828462576281185"
          }
        },
        "outputId": "b5665017-b9f4-43fc-df6e-5c5be4e0e71d"
      },
      "source": [
        "slicing_metric = 'delta_logloss' #@param [\"delta_logloss\", \"delta_auc\", \"logloss\", \"auc_attr\", \"auc_surprise\", \"correlation\", \"mse\", \"precision\", \"recall\", \"normalized_auc_attribution\"]\n",
        "base_metric = '' #@param {type: \"string\"}\n",
        "max_depth = 3 #@param\n",
        "min_samples_leaf = 500 #@param\n",
        "decision_tree_dims =  ['CapitalGain', 'Age', 'EducationNum']  #@param \n",
        "\n",
        "honest_reporting = True # @param {type: \"boolean\"}\n",
        "\n",
        "build_and_plot_slicing_tree(test_features, slicing_metric, decision_tree_dims,\n",
        "                            base_metric, max_depth, min_samples_leaf,\n",
        "                            honest_reporting)"
      ],
      "execution_count": 46,
      "outputs": [
        {
          "output_type": "display_data",
          "data": {
            "text/plain": [
              "<Figure size 2000x500 with 1 Axes>"
            ],
            "image/png": "[encoded data removed]"
          },
          "metadata": {
            "tags": []
          }
        }
      ]
    },
    {
      "cell_type": "code",
      "metadata": {
        "colab": {
          "height": 390
        },
        "cellView": "form",
        "id": "wllGLiM9T3vT",
        "executionInfo": {
          "status": "ok",
          "timestamp": 1626201304842,
          "user_tz": 420,
          "elapsed": 1157,
          "user": {
            "displayName": "Besim Avci",
            "photoUrl": "https://lh3.googleusercontent.com/a/default-user=s64",
            "userId": "02966828462576281185"
          }
        },
        "outputId": "0eb83f97-c7ec-4b44-948e-d64ffbf9899c"
      },
      "source": [
        "slicing_metric = 'normalized_auc_attribution' #@param [\"delta_logloss\", \"delta_auc\", \"logloss\", \"auc_attr\", \"auc_surprise\", \"correlation\", \"mse\", \"precision\", \"recall\", \"normalized_auc_attribution\"]\n",
        "base_metric = '' #@param {type: \"string\"}\n",
        "max_depth = 3 #@param\n",
        "min_samples_leaf = 500 #@param\n",
        "decision_tree_dims =  ['CapitalGain', 'Age', 'EducationNum']  #@param \n",
        "\n",
        "honest_reporting = True # @param {type: \"boolean\"}\n",
        "\n",
        "build_and_plot_slicing_tree(test_features, slicing_metric, decision_tree_dims,\n",
        "                            base_metric, max_depth, min_samples_leaf,\n",
        "                            honest_reporting)"
      ],
      "execution_count": 47,
      "outputs": [
        {
          "output_type": "display_data",
          "data": {
            "text/plain": [
              "<Figure size 2000x500 with 1 Axes>"
            ],
            "image/png": "[encoded data removed]"
          },
          "metadata": {
            "tags": []
          }
        }
      ]
    },
    {
      "cell_type": "markdown",
      "metadata": {
        "id": "KcrPZnV8jxLg"
      },
      "source": [
        "We analyze pairs of examples, one positive and one negative. The overall AUC is just the probability that a random such pair is ordered correctly, i.e., the model produces a higher score for the positive example of the pair. We slice these pairs, i.e., we categorize types of pairs that are easy to slice and those that are hard to slice."
      ]
    },
    {
      "cell_type": "markdown",
      "metadata": {
        "id": "7TH16HiUFjnD"
      },
      "source": [
        "### Pairwise Analysis"
      ]
    },
    {
      "cell_type": "code",
      "metadata": {
        "id": "99Fd4JLVea_5",
        "cellView": "form",
        "executionInfo": {
          "status": "ok",
          "timestamp": 1626201319058,
          "user_tz": 420,
          "elapsed": 11593,
          "user": {
            "displayName": "Besim Avci",
            "photoUrl": "https://lh3.googleusercontent.com/a/default-user=s64",
            "userId": "02966828462576281185"
          }
        },
        "outputId": "ef018d1e-54d8-46aa-a2a6-2e0745a3698c"
      },
      "source": [
        "# @title Downsample the dataset.\n",
        "sample_size = 10000 #@param\n",
        "plotting_columns = test_features.columns[:13] # LENDING: test_features.columns[:23]\n",
        "\n",
        "probability_column = 'probabilities_logistic'\n",
        "\n",
        "if sample_size and sample_size < len(test_features):\n",
        "  test_sample = utils.resample(\n",
        "      test_features[[*plotting_columns, label_column, probability_column]],\n",
        "      replace=False,\n",
        "      n_samples=sample_size)\n",
        "else:\n",
        "  test_sample = test_features[[*plotting_columns, label_column, probability_column]]\n",
        "\n",
        "negative_cases = test_sample[test_sample[label_column] == 0]\n",
        "positive_cases = test_sample[test_sample[label_column] == 1]\n",
        "\n",
        "positive_cases.columns = [name + '_pos' for name in positive_cases.columns]\n",
        "negative_cases.columns = [name + '_neg' for name in negative_cases.columns]\n",
        "\n",
        "# Needed to do cross join. This pandas version doesn't have cross join.\n",
        "# Hence we do outer join with a fake joining column.\n",
        "positive_cases['tmp'] = 1\n",
        "negative_cases['tmp'] = 1\n",
        "\n",
        "cartesian = negative_cases.merge(positive_cases, how='outer')\n",
        "cartesian.drop('tmp', axis=1, inplace=True)"
      ],
      "execution_count": 48,
      "outputs": [
        {
          "output_type": "stream",
          "text": [
            "/usr/local/google/_blaze_besim/49cbd36a6f46e81b32ba2ad0d659c96d/execroot/google3/blaze-out/k8-fastbuild/bin/learning/deepmind/public/tools/ml_python/ml_notebook:23: SettingWithCopyWarning: \n",
            "A value is trying to be set on a copy of a slice from a DataFrame.\n",
            "Try using .loc[row_indexer,col_indexer] = value instead\n",
            "\n",
            "See the caveats in the documentation: https://pandas.pydata.org/pandas-docs/stable/user_guide/indexing.html#returning-a-view-versus-a-copy\n",
            "/usr/local/google/_blaze_besim/49cbd36a6f46e81b32ba2ad0d659c96d/execroot/google3/blaze-out/k8-fastbuild/bin/learning/deepmind/public/tools/ml_python/ml_notebook:24: SettingWithCopyWarning: \n",
            "A value is trying to be set on a copy of a slice from a DataFrame.\n",
            "Try using .loc[row_indexer,col_indexer] = value instead\n",
            "\n",
            "See the caveats in the documentation: https://pandas.pydata.org/pandas-docs/stable/user_guide/indexing.html#returning-a-view-versus-a-copy\n"
          ],
          "name": "stderr"
        }
      ]
    },
    {
      "cell_type": "code",
      "metadata": {
        "id": "S68gkkW0I5Ek",
        "executionInfo": {
          "status": "ok",
          "timestamp": 1626201319200,
          "user_tz": 420,
          "elapsed": 60,
          "user": {
            "displayName": "Besim Avci",
            "photoUrl": "https://lh3.googleusercontent.com/a/default-user=s64",
            "userId": "02966828462576281185"
          }
        }
      },
      "source": [
        "pair_label = 'AUC'\n",
        "# Think harder on the ties.\n",
        "cartesian[pair_label] = np.where(cartesian[probability_column + '_pos'] > cartesian[probability_column + '_neg'], 1, 0)"
      ],
      "execution_count": 49,
      "outputs": []
    },
    {
      "cell_type": "code",
      "metadata": {
        "id": "3Op7BoJ2L1-z",
        "executionInfo": {
          "status": "ok",
          "timestamp": 1626201319289,
          "user_tz": 420,
          "elapsed": 25,
          "user": {
            "displayName": "Besim Avci",
            "photoUrl": "https://lh3.googleusercontent.com/a/default-user=s64",
            "userId": "02966828462576281185"
          }
        },
        "outputId": "0382eda1-1849-4389-bba9-f8824fe6f114"
      },
      "source": [
        "print(\"Sanity check for the pair labels.\")\n",
        "print(\"AUC of the sample:\", np.mean(cartesian[pair_label]))\n",
        "print(\"Overall model AUC:\", roc_auc_score(test_features[label_column], test_features.probabilities_logistic))"
      ],
      "execution_count": 50,
      "outputs": [
        {
          "output_type": "stream",
          "text": [
            "Sanity check for the pair labels.\n",
            "AUC of the sample: 0.8792215492671009\n",
            "Overall model AUC: 0.8792277839983712\n"
          ],
          "name": "stdout"
        }
      ]
    },
    {
      "cell_type": "markdown",
      "metadata": {
        "id": "_U9ouEcZfWhD"
      },
      "source": [
        "---\n",
        "<font color='red'> The following cell might take a while.</font>\n",
        "\n",
        "---"
      ]
    },
    {
      "cell_type": "code",
      "metadata": {
        "id": "NEJR6GLSX4hs",
        "colab": {
          "height": 359
        },
        "executionInfo": {
          "status": "ok",
          "timestamp": 1626202510834,
          "user_tz": 420,
          "elapsed": 1191470,
          "user": {
            "displayName": "Besim Avci",
            "photoUrl": "https://lh3.googleusercontent.com/a/default-user=s64",
            "userId": "02966828462576281185"
          }
        },
        "outputId": "2aa2881d-caa7-4283-e117-0cc6d9930308"
      },
      "source": [
        "cartesian_cols = [col + '_pos' for col in plotting_columns]\n",
        "cartesian_cols.extend([col + '_neg' for col in plotting_columns])\n",
        "cartesian_cols.append(pair_label)\n",
        "\n",
        "cartesian = cartesian[cartesian_cols]\n",
        "\n",
        "honest_reporting = True # @param {type: \"boolean\"}\n",
        "\n",
        "build_and_plot_slicing_tree(cartesian, pair_label,\n",
        "                            cartesian.columns[:-1], None,\n",
        "                            max_depth, min_samples_leaf, honest_reporting)"
      ],
      "execution_count": 51,
      "outputs": [
        {
          "output_type": "display_data",
          "data": {
            "text/plain": [
              "<Figure size 2000x500 with 1 Axes>"
            ],
            "image/png": "[encoded data removed]"
          },
          "metadata": {
            "tags": []
          }
        }
      ]
    },
    {
      "cell_type": "markdown",
      "metadata": {
        "id": "0Bqsi1P2UhyJ"
      },
      "source": [
        "### Headroom Analysis"
      ]
    },
    {
      "cell_type": "code",
      "metadata": {
        "id": "UZq4DsVIhRaX",
        "colab": {
          "height": 834
        },
        "executionInfo": {
          "status": "ok",
          "timestamp": 1626202512596,
          "user_tz": 420,
          "elapsed": 1278,
          "user": {
            "displayName": "Besim Avci",
            "photoUrl": "https://lh3.googleusercontent.com/a/default-user=s64",
            "userId": "02966828462576281185"
          }
        },
        "outputId": "2bf46d0b-b798-4c74-e797-ca5c7703268d"
      },
      "source": [
        "analysis_column = 'MaritalStatus' # @param {type: \"string\"}\n",
        "leaves = test_features[analysis_column]\n",
        "leaf_indeces = sorted(list(set(leaves)))\n",
        "num_slices = len(leaf_indeces)\n",
        "\n",
        "mat = np.zeros((num_slices, num_slices))\n",
        "mat2 = np.zeros((num_slices, num_slices))\n",
        "for i in range(num_slices):\n",
        "  for j in range(num_slices):\n",
        "    filtered = test_features[((leaves == leaf_indeces[i]) & (test_features[label_column] == 1)) |\n",
        "                             ((leaves == leaf_indeces[j]) & (test_features[label_column] == 0))]\n",
        "    try:\n",
        "      mat[i, j] = roc_auc_score(filtered[label_column], filtered['probabilities_logistic'])\n",
        "    except:\n",
        "      mat[i, j] = np.nan\n",
        "    p = filtered[label_column].sum()\n",
        "    n = (1 - filtered[label_column]).sum()\n",
        "    mat2[i, j] = n * p - mat[i, j] * n * p\n",
        "\n",
        "plt.figure(figsize=(5, 5))\n",
        "sns.matrix.heatmap(mat, square=True, xticklabels=leaf_indeces, yticklabels=leaf_indeces)\n",
        "plt.ylabel('Positive Item')\n",
        "plt.xlabel('Negative Item')\n",
        " \n",
        "plt.figure(figsize=(5, 5))\n",
        "sns.matrix.heatmap(mat2, square=True, xticklabels=leaf_indeces, yticklabels=leaf_indeces)\n",
        "plt.ylabel('Positive Item')\n",
        "plt.xlabel('Negative Item')"
      ],
      "execution_count": 52,
      "outputs": [
        {
          "output_type": "execute_result",
          "data": {
            "text/plain": [
              "Text(0.5, 66.97222222222219, 'Negative Item')"
            ]
          },
          "metadata": {
            "tags": []
          },
          "execution_count": 52
        },
        {
          "output_type": "display_data",
          "data": {
            "text/plain": [
              "<Figure size 500x500 with 2 Axes>"
            ],
            "image/png": "[encoded data removed]"
          },
          "metadata": {
            "tags": []
          }
        },
        {
          "output_type": "display_data",
          "data": {
            "text/plain": [
              "<Figure size 500x500 with 2 Axes>"
            ],
            "image/png": "[encoded data removed]"
          },
          "metadata": {
            "tags": []
          }
        }
      ]
    },
    {
      "cell_type": "markdown",
      "metadata": {
        "id": "yPqJEQYpVy9w"
      },
      "source": [
        "### Metric Correlation Analysis"
      ]
    },
    {
      "cell_type": "code",
      "metadata": {
        "id": "hgPr03qnU1Ed",
        "executionInfo": {
          "status": "ok",
          "timestamp": 1626202512684,
          "user_tz": 420,
          "elapsed": 24,
          "user": {
            "displayName": "Besim Avci",
            "photoUrl": "https://lh3.googleusercontent.com/a/default-user=s64",
            "userId": "02966828462576281185"
          }
        },
        "outputId": "ea81149d-d7af-4f22-c8fd-8d8769fcf782"
      },
      "source": [
        "print(\"GINI vs AUC correlation for Random Forest:\", pearsonr(test_features.gini_forest, test_features.auc_attr_forest)[0])\n",
        "print(\"GINI vs AUC correlation for Logistic Regression:\", pearsonr(test_features.gini_logistic, test_features.auc_attr_logistic)[0])\n",
        "print(\"Logloss vs AUC correlation for Random Forest:\", pearsonr(test_features.logloss_forest, test_features.auc_attr_forest)[0])\n",
        "print(\"Logloss vs AUC correlation for Logistic Regression:\", pearsonr(test_features.logloss_logistic, test_features.auc_attr_logistic)[0])\n",
        "print(\"Logloss vs normalized AUC correlation for Random Forest:\", pearsonr(test_features.logloss_forest, test_features.auc_frac_attr_forest)[0])\n",
        "print(\"Logloss vs normalized AUC correlation for Logistic Regression:\", pearsonr(test_features.logloss_logistic, test_features.auc_frac_attr_logistic)[0])"
      ],
      "execution_count": 53,
      "outputs": [
        {
          "output_type": "stream",
          "text": [
            "GINI vs AUC correlation for Random Forest: 0.13824693053428042\n",
            "GINI vs AUC correlation for Logistic Regression: 0.28351398534669237\n",
            "Logloss vs AUC correlation for Random Forest: -0.057998234944792115\n",
            "Logloss vs AUC correlation for Logistic Regression: 0.2261058368828327\n",
            "Logloss vs normalized AUC correlation for Random Forest: -0.5222628390118051\n",
            "Logloss vs normalized AUC correlation for Logistic Regression: -0.7251610687480482\n"
          ],
          "name": "stdout"
        }
      ]
    }
  ]
}