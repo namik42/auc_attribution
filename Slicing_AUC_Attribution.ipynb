{
  "nbformat": 4,
  "nbformat_minor": 0,
  "metadata": {
    "colab": {
      "name": "Slicing -- AUC Attribution",
      "provenance": [
        {
          "file_id": "1gchIDJ2394iVYzLaHX2h3mI6aP9fNlBI",
          "timestamp": 1624774549343
        }
      ],
      "collapsed_sections": [],
      "last_runtime": {
        "build_target": "",
        "kind": "local"
      }
    },
    "kernelspec": {
      "name": "python3",
      "display_name": "Python 3"
    },
    "language_info": {
      "name": "python"
    }
  },
  "cells": [
    {
      "cell_type": "code",
      "metadata": {
        "cellView": "form",
        "id": "6iLoqs6oIhWL",
        "executionInfo": {
          "status": "ok",
          "timestamp": 1625192670005,
          "user_tz": 420,
          "elapsed": 1425,
          "user": {
            "displayName": "Besim Avci",
            "photoUrl": "https://lh3.googleusercontent.com/a/default-user=s64",
            "userId": "02966828462576281185"
          }
        }
      },
      "source": [
        "#@title imports\n",
        "import collections\n",
        "import os\n",
        "import time\n",
        "import zipfile\n",
        "import numpy as np\n",
        "import pandas as pd\n",
        "\n",
        "from colabtools import adhoc_import\n",
        "from colabtools import drive\n",
        "from colabtools import googlefiles\n",
        "from google3.pyglib import resources\n",
        "from google3.pyglib import gfile\n",
        "\n",
        "from sklearn import tree\n",
        "from sklearn.compose import ColumnTransformer\n",
        "from sklearn.ensemble import RandomForestClassifier, GradientBoostingClassifier\n",
        "from sklearn.linear_model import SGDClassifier, LogisticRegression\n",
        "from sklearn.model_selection import train_test_split\n",
        "from sklearn.preprocessing import OneHotEncoder, FunctionTransformer, StandardScaler\n",
        "from sklearn.pipeline import Pipeline\n",
        "from sklearn.linear_model import LinearRegression\n",
        "\n",
        "\n",
        "import time\n",
        "from sortedcontainers import SortedList\n",
        "from sklearn.metrics import roc_auc_score\n",
        "from sklearn.metrics import mean_squared_error\n",
        "from sklearn.metrics import log_loss\n",
        "\n",
        "from matplotlib import pyplot as plt"
      ],
      "execution_count": 1,
      "outputs": []
    },
    {
      "cell_type": "markdown",
      "metadata": {
        "id": "jzr30Fo_IhWM"
      },
      "source": [
        "#data"
      ]
    },
    {
      "cell_type": "code",
      "metadata": {
        "id": "hIIc9N-TIhWN",
        "executionInfo": {
          "status": "ok",
          "timestamp": 1625192670140,
          "user_tz": 420,
          "elapsed": 68,
          "user": {
            "displayName": "Besim Avci",
            "photoUrl": "https://lh3.googleusercontent.com/a/default-user=s64",
            "userId": "02966828462576281185"
          }
        },
        "outputId": "01348126-727e-46c2-d988-4b957103cb4d"
      },
      "source": [
        "DATASETS_DIR = '/tmp/datasets'\n",
        "! mkdir $DATASETS_DIR"
      ],
      "execution_count": 2,
      "outputs": [
        {
          "output_type": "stream",
          "text": [
            "mkdir: cannot create directory ‘/tmp/datasets’: File exists\n"
          ],
          "name": "stdout"
        }
      ]
    },
    {
      "cell_type": "code",
      "metadata": {
        "cellView": "form",
        "id": "8_mdGxotIhWN",
        "executionInfo": {
          "status": "ok",
          "timestamp": 1625192670246,
          "user_tz": 420,
          "elapsed": 26,
          "user": {
            "displayName": "Besim Avci",
            "photoUrl": "https://lh3.googleusercontent.com/a/default-user=s64",
            "userId": "02966828462576281185"
          }
        }
      },
      "source": [
        "#@title Data reading utils\n",
        "def read_from_drive(file_id, local_path):\n",
        "  byte_string = drive.LoadFile(file_id=file_id)\n",
        "  \n",
        "  with gfile.Open(local_path, 'wb') as f:\n",
        "    f.write(byte_string)\n",
        "\n",
        "def get_df_from_drive(file_id):\n",
        "  filepath = os.path.join(DATASETS_DIR, file_id)\n",
        "  read_from_drive(file_id, filepath)\n",
        "  return pd.read_csv(filepath)"
      ],
      "execution_count": 3,
      "outputs": []
    },
    {
      "cell_type": "markdown",
      "metadata": {
        "id": "30aNP1lEIhWN"
      },
      "source": [
        "## Preprocess"
      ]
    },
    {
      "cell_type": "code",
      "metadata": {
        "id": "0k07v86NIhWN",
        "cellView": "form",
        "executionInfo": {
          "status": "ok",
          "timestamp": 1625192670401,
          "user_tz": 420,
          "elapsed": 97,
          "user": {
            "displayName": "Besim Avci",
            "photoUrl": "https://lh3.googleusercontent.com/a/default-user=s64",
            "userId": "02966828462576281185"
          }
        }
      },
      "source": [
        "#@title Preprocess Functions\n",
        "\n",
        "def preprocess_lending(accepted):\n",
        "  missing_data = accepted.isnull().sum().sort_values(ascending=False)\n",
        "  drop_columns = list(missing_data[missing_data > accepted.shape[0] * 0.1].index) # drop columns where at least 10% of data is missing\n",
        "  accepted = accepted.drop(drop_columns, axis = 1)\n",
        "\n",
        "  accepted.term = accepted.term.apply(str)\n",
        "  accepted['term'] = accepted['term'].apply(lambda x: x.strip().split(\" \")[0])\n",
        "  accepted.issue_d = pd.to_datetime(accepted.issue_d)\n",
        "  accepted['issue_yr'] = accepted.issue_d.dt.year\n",
        "\n",
        "  accepted = accepted.drop(['title', 'funded_amnt'], axis = 1)\n",
        "  accepted = accepted.drop(['out_prncp_inv','total_rec_prncp','total_pymnt_inv'], axis = 1)\n",
        "  accepted = accepted.drop(['fico_range_low', 'last_fico_range_low',\n",
        "                          'avg_cur_bal',\n",
        "                          'addr_state', 'initial_list_status', 'pymnt_plan',\n",
        "                          'application_type', 'hardship_flag', 'disbursement_method',\n",
        "                            'debt_settlement_flag','sub_grade',\n",
        "                          'zip_code', 'id','policy_code','tax_liens', 'tax_liens'], axis = 1)\n",
        "  \n",
        "  accepted.home_ownership = accepted.home_ownership.replace(['ANY', 'NONE','OTHER'], 'RENT')\n",
        "\n",
        "  accepted['earliest_cr_line'] = pd.to_datetime(accepted.earliest_cr_line)\n",
        "  accepted['early_cr_yr'] = accepted.earliest_cr_line.dt.year\n",
        "\n",
        "  median_year = accepted.emp_length.value_counts(ascending = False).index[0]\n",
        "  accepted.loc[:, 'emp_length'] = accepted.loc[:, 'emp_length'].fillna(median_year)\n",
        "\n",
        "  accepted.emp_length = accepted.emp_length.replace(['10+ years'], '10 years')\n",
        "  accepted.emp_length = accepted.emp_length.replace(['< 1 year'], '0 years')\n",
        "  accepted.emp_length = accepted.emp_length.apply(lambda x: int(str(x).split(' ')[0]))\n",
        "  accepted.loc[:, 'emp_title'] = accepted.loc[:, 'emp_title'].fillna('other')\n",
        "  accepted.emp_title = accepted.emp_title.apply(lambda x: x.lower())\n",
        "  accepted.emp_title = accepted.emp_title.replace(['lpn','registered nurse', 'rn'], 'nurse')\n",
        "\n",
        "  leq1mil = accepted['annual_inc'] <= 1e6\n",
        "  accepted = accepted[leq1mil]\n",
        "  accepted = accepted[accepted.dti < 100.0]\n",
        "  accepted['verified'] = accepted['verification_status'] == 'Verified'\n",
        "\n",
        "  # Eliminate active loans\n",
        "  accepted = accepted.loc[accepted.loan_status != 'Current', :]\n",
        "  # Set all targets to 1\n",
        "  accepted['target'] = 1\n",
        "  # Unpaid loans are set to 0.\n",
        "  accepted.loc[(accepted.loan_status == 'Fully Paid') | (accepted.loan_status == 'In Grace Period') \n",
        "              | (accepted.loan_status == 'Does not meet the credit policy. Status:Fully Paid')\n",
        "                  , 'target'] = 0\n",
        "\n",
        "  # Remove loan_status since it is the label.\n",
        "  # Remove emp title and url as they have too many unique values.\n",
        "  accepted = accepted.drop(['loan_status', 'emp_title', 'url'], axis=1)\n",
        "\n",
        "  # Drop features that may not be known to investors at the time of issue.\n",
        "  # from: https://www.kaggle.com/pileatedperch/predicting-charge-off-from-initial-listing-data\n",
        "  keep_cols = ['addr_state', 'annual_inc', 'application_type', 'dti',\n",
        "               'earliest_cr_line', 'early_cr_yr', 'emp_length', 'emp_title', 'fico_range_high',\n",
        "               'fico_range_low', 'grade', 'home_ownership', 'id',\n",
        "               'initial_list_status', 'installment', 'int_rate',\n",
        "               'issue_d', 'loan_amnt', 'loan_status', 'mort_acc', 'open_acc',\n",
        "               'pub_rec', 'pub_rec_bankruptcies', 'purpose', 'revol_bal',\n",
        "               'revol_util', 'sub_grade', 'target', 'term', 'title', 'total_acc',\n",
        "               'verification_status', 'verified', 'zip_code']\n",
        "  drop_cols = [col for col in accepted.columns if col not in keep_cols]\n",
        "  accepted.drop(labels=drop_cols, axis=1, inplace=True)\n",
        "  return accepted\n",
        "\n",
        "def preprocess_bank_marketing(df):\n",
        "  df['target'] = np.where(df.y=='yes', 1, 0)\n",
        "  del df['y']\n",
        "  return df\n",
        "\n",
        "def preprocess_census(df):\n",
        "  df.columns = [\n",
        "      \"Age\", \"WorkClass\", \"fnlwgt\", \"Education\", \"EducationNum\",\n",
        "      \"MaritalStatus\", \"Occupation\", \"Relationship\", \"Race\", \"Gender\",\n",
        "      \"CapitalGain\", \"CapitalLoss\", \"HoursPerWeek\", \"NativeCountry\", \"Income\"\n",
        "  ]\n",
        "  df.drop('fnlwgt', axis=1, inplace=True)\n",
        "  df['Income'] = np.where(df.Income == ' >50K', 1, 0)\n",
        "  return df"
      ],
      "execution_count": 4,
      "outputs": []
    },
    {
      "cell_type": "code",
      "metadata": {
        "id": "EDrCSqBYIhWO",
        "executionInfo": {
          "status": "ok",
          "timestamp": 1625192670459,
          "user_tz": 420,
          "elapsed": 5,
          "user": {
            "displayName": "Besim Avci",
            "photoUrl": "https://lh3.googleusercontent.com/a/default-user=s64",
            "userId": "02966828462576281185"
          }
        }
      },
      "source": [
        "LENDING_FILE_ID = '16z6xUwCB2LfHc_K24rU6DisGMhuJ-WQO'  # label: target\n",
        "BANK_MARKETING_FILE_ID = '1gcTcvXLJwl1UorLKFIf-fFe4iopuo2Zd'  # label: y\n",
        "CENSUS_FILE_ID = '1SYh_nA-NKPGtiAxn2rvaDdWWo7DxaOS2'  # label: Income"
      ],
      "execution_count": 5,
      "outputs": []
    },
    {
      "cell_type": "code",
      "metadata": {
        "cellView": "form",
        "id": "Yaww7SIjIhWO",
        "executionInfo": {
          "status": "ok",
          "timestamp": 1625192677175,
          "user_tz": 420,
          "elapsed": 41,
          "user": {
            "displayName": "Besim Avci",
            "photoUrl": "https://lh3.googleusercontent.com/a/default-user=s64",
            "userId": "02966828462576281185"
          }
        }
      },
      "source": [
        "#@title Dataset Parameters\n",
        "\n",
        "dataset = 'Census' #@param [\"Lending\", \"Bank Marketing\", \"Census\"]\n",
        "\n",
        "if dataset == 'Lending':\n",
        "  preprocess_fn = preprocess_lending\n",
        "  fileid = LENDING_FILE_ID\n",
        "  label_column = 'target'\n",
        "elif dataset == 'Bank Marketing':\n",
        "  preprocess_fn = preprocess_bank_marketing\n",
        "  fileid = BANK_MARKETING_FILE_ID\n",
        "  label_column = 'target'\n",
        "elif dataset == 'Census':\n",
        "  preprocess_fn = preprocess_census\n",
        "  fileid = CENSUS_FILE_ID\n",
        "  label_column = 'Income'"
      ],
      "execution_count": 8,
      "outputs": []
    },
    {
      "cell_type": "code",
      "metadata": {
        "colab": {
          "height": 51
        },
        "id": "9fvdateTIhWQ",
        "executionInfo": {
          "status": "ok",
          "timestamp": 1625192689684,
          "user_tz": 420,
          "elapsed": 12441,
          "user": {
            "displayName": "Besim Avci",
            "photoUrl": "https://lh3.googleusercontent.com/a/default-user=s64",
            "userId": "02966828462576281185"
          }
        },
        "outputId": "e5ab6b37-097c-416f-f882-4c364a390bf7"
      },
      "source": [
        "df = get_df_from_drive(fileid)\n",
        "df = preprocess_fn(df)\n",
        "\n",
        "# MANY ROWS MIGHT BE DROPPED\n",
        "df.dropna(inplace=True)"
      ],
      "execution_count": 9,
      "outputs": [
        {
          "output_type": "stream",
          "text": [
            "Beginning OAuth2 authorization process ...\n",
            "Authentication successful.\n"
          ],
          "name": "stdout"
        },
        {
          "output_type": "display_data",
          "data": {
            "text/plain": [
              "<IPython.core.display.Javascript at 0x7fb534a22208>"
            ],
            "application/javascript": [
              "colab.output.allowEphemeralScripts = true;\n",
              "//# sourceURL=js_6e978dd043"
            ]
          },
          "metadata": {
            "tags": []
          }
        },
        {
          "output_type": "display_data",
          "data": {
            "text/plain": [
              "<IPython.core.display.HTML at 0x7fb547cd4be0>"
            ],
            "text/html": [
              "<span id=\"eltpbid_928064868\"> <div id=\"tpbid_928064868\" style=\"background:lightgray;width:50%;border-radius:4pt;overflow:hidden;\"><div id=\"pbid_928064868\" style=\"background:dodgerblue;width:0%;\"><br/></div></div> </span>"
            ]
          },
          "metadata": {
            "tags": []
          }
        },
        {
          "output_type": "display_data",
          "data": {
            "text/plain": [
              "<IPython.core.display.Javascript at 0x7fb534a22240>"
            ],
            "application/javascript": [
              "$(\"#tpbid_928064868\")[0].remove()\n",
              "//# sourceURL=js_16a48b0c0e"
            ]
          },
          "metadata": {
            "tags": []
          }
        }
      ]
    },
    {
      "cell_type": "markdown",
      "metadata": {
        "id": "fDwPGIcuIhWR"
      },
      "source": [
        "#train"
      ]
    },
    {
      "cell_type": "code",
      "metadata": {
        "id": "nw-aWOjZIhWR",
        "cellView": "form",
        "executionInfo": {
          "status": "ok",
          "timestamp": 1625192971114,
          "user_tz": 420,
          "elapsed": 570,
          "user": {
            "displayName": "Besim Avci",
            "photoUrl": "https://lh3.googleusercontent.com/a/default-user=s64",
            "userId": "02966828462576281185"
          }
        }
      },
      "source": [
        "#@title Training utils\n",
        "\n",
        "def create_pipeline_with_one_hot(df: pd.DataFrame, model, label_name: str):\n",
        "  \"\"\"Creates a pipeline by converting categorical features to one hot.\n",
        "  \n",
        "  Date columns are being dropped and numeric columns as passed through.\n",
        "  \"\"\"\n",
        "  # Assuming the label is the last column\n",
        "  train_columns = df.columns.tolist()\n",
        "  train_columns.remove(label_name)\n",
        "  is_cat = np.array([dt.kind == 'O' for dt in df[train_columns].dtypes])\n",
        "  cat_cols = df[train_columns].columns.values[is_cat]\n",
        "  is_num = np.array([dt.kind == 'f' or dt.kind == 'i' for dt in df[train_columns].dtypes])\n",
        "  num_cols = df[train_columns].columns.values[is_num]\n",
        "  # Date columns are effectively dropped.\n",
        "  transformers = [\n",
        "      ('cat', OneHotEncoder(sparse=False, handle_unknown='ignore'), cat_cols),\n",
        "      ('num', FunctionTransformer(), num_cols)\n",
        "  ]\n",
        "  ct = ColumnTransformer(transformers=transformers)\n",
        "  return Pipeline([\n",
        "      ('ct', ct),\n",
        "      ('rf', model),\n",
        "  ])\n",
        "\n",
        "def split_data(df: pd.DataFrame, label_column: str):\n",
        "  \"\"\"Splits the dataframe into train and test.\n",
        "  Args:\n",
        "    df: Dataframe representing the whole dataset.\n",
        "    label_column: Name of the label column.\n",
        "  Returns: \n",
        "    Tuple of training features, test features, training labels, and test labels.\n",
        "  \"\"\"\n",
        "  return train_test_split(df[df.columns.difference([label_column])], df[label_column], test_size = 0.2, random_state = 42)\n",
        "\n",
        "def add_predictions_to_df(model, df, columns, suffix=''):\n",
        "  # To make this function idempotent\n",
        "  df_copy = df.copy()\n",
        "  df_copy['predictions' + suffix] = model.predict(df[columns])\n",
        "  df_copy['probabilities' + suffix] = model.predict_proba(df[columns])[:, 1]\n",
        "  return df_copy"
      ],
      "execution_count": 10,
      "outputs": []
    },
    {
      "cell_type": "code",
      "metadata": {
        "id": "sBm9jzaIIhWR",
        "executionInfo": {
          "status": "ok",
          "timestamp": 1625192971191,
          "user_tz": 420,
          "elapsed": 21,
          "user": {
            "displayName": "Besim Avci",
            "photoUrl": "https://lh3.googleusercontent.com/a/default-user=s64",
            "userId": "02966828462576281185"
          }
        }
      },
      "source": [
        "carry_around_dims = []"
      ],
      "execution_count": 11,
      "outputs": []
    },
    {
      "cell_type": "code",
      "metadata": {
        "id": "o_qicYLBIhWS",
        "executionInfo": {
          "status": "ok",
          "timestamp": 1625192971278,
          "user_tz": 420,
          "elapsed": 23,
          "user": {
            "displayName": "Besim Avci",
            "photoUrl": "https://lh3.googleusercontent.com/a/default-user=s64",
            "userId": "02966828462576281185"
          }
        }
      },
      "source": [
        "carry_around_df = df[carry_around_dims]\n",
        "df = df[df.columns.difference(carry_around_dims)]"
      ],
      "execution_count": 12,
      "outputs": []
    },
    {
      "cell_type": "markdown",
      "metadata": {
        "id": "NZoOL3rPIhWS"
      },
      "source": [
        "##logistic"
      ]
    },
    {
      "cell_type": "code",
      "metadata": {
        "id": "pNh6aj4MIhWS"
      },
      "source": [
        "pipe = create_pipeline_with_one_hot(df, LogisticRegression(random_state=1234, max_iter=100), label_column)\n",
        "train_features, test_features, train_labels, test_labels = split_data(df, label_column)\n",
        "\n",
        "_ = pipe.fit(train_features[train_features.columns.difference(carry_around_dims)], train_labels)"
      ],
      "execution_count": null,
      "outputs": []
    },
    {
      "cell_type": "code",
      "metadata": {
        "id": "DDm9SvZkIhWS",
        "executionInfo": {
          "status": "ok",
          "timestamp": 1625192972855,
          "user_tz": 420,
          "elapsed": 315,
          "user": {
            "displayName": "Besim Avci",
            "photoUrl": "https://lh3.googleusercontent.com/a/default-user=s64",
            "userId": "02966828462576281185"
          }
        }
      },
      "source": [
        "suffix = '_logistic'\n",
        "\n",
        "train_features = add_predictions_to_df(pipe, train_features, train_features.columns.difference(carry_around_dims), suffix)\n",
        "test_features = add_predictions_to_df(pipe, test_features, test_features.columns.difference(carry_around_dims), suffix)\n",
        "\n",
        "carry_around_df = carry_around_df.merge(pd.concat([train_features,test_features])[['predictions' + suffix, 'probabilities' + suffix]], right_index=True, left_index=True, suffixes=['',''])\n",
        "carry_around_dims += ['predictions' + suffix, 'probabilities' + suffix]"
      ],
      "execution_count": 14,
      "outputs": []
    },
    {
      "cell_type": "code",
      "metadata": {
        "id": "WmtbRG1xIhWS",
        "executionInfo": {
          "status": "ok",
          "timestamp": 1625192972942,
          "user_tz": 420,
          "elapsed": 26,
          "user": {
            "displayName": "Besim Avci",
            "photoUrl": "https://lh3.googleusercontent.com/a/default-user=s64",
            "userId": "02966828462576281185"
          }
        },
        "outputId": "a7a92462-537b-4ad8-d5ac-3b6fc127a8fd"
      },
      "source": [
        "print(suffix + ' test auc: ', roc_auc_score(test_labels, test_features['probabilities' + suffix]))\n",
        "print(suffix + ' train auc: ', roc_auc_score(train_labels, train_features['probabilities' + suffix]))"
      ],
      "execution_count": 15,
      "outputs": [
        {
          "output_type": "stream",
          "text": [
            "_logistic test auc:  0.8792277839983712\n",
            "_logistic train auc:  0.8788654369820184\n"
          ],
          "name": "stdout"
        }
      ]
    },
    {
      "cell_type": "markdown",
      "metadata": {
        "id": "kT7P9Gj3IhWT"
      },
      "source": [
        "##random forest"
      ]
    },
    {
      "cell_type": "code",
      "metadata": {
        "id": "3AWAN9JXIhWT",
        "executionInfo": {
          "status": "ok",
          "timestamp": 1625192974456,
          "user_tz": 420,
          "elapsed": 1442,
          "user": {
            "displayName": "Besim Avci",
            "photoUrl": "https://lh3.googleusercontent.com/a/default-user=s64",
            "userId": "02966828462576281185"
          }
        }
      },
      "source": [
        "pipe = create_pipeline_with_one_hot(df, RandomForestClassifier(n_estimators=50, random_state=1234), label_column)\n",
        "\n",
        "_ = pipe.fit(train_features[train_features.columns.difference(carry_around_dims)], train_labels)"
      ],
      "execution_count": 16,
      "outputs": []
    },
    {
      "cell_type": "code",
      "metadata": {
        "id": "n8VX7UmAIhWT",
        "executionInfo": {
          "status": "ok",
          "timestamp": 1625192975389,
          "user_tz": 420,
          "elapsed": 875,
          "user": {
            "displayName": "Besim Avci",
            "photoUrl": "https://lh3.googleusercontent.com/a/default-user=s64",
            "userId": "02966828462576281185"
          }
        }
      },
      "source": [
        "suffix = '_forest'\n",
        "\n",
        "train_features = add_predictions_to_df(pipe, train_features, train_features.columns.difference(carry_around_dims), suffix)\n",
        "test_features = add_predictions_to_df(pipe, test_features, test_features.columns.difference(carry_around_dims), suffix)\n",
        "\n",
        "carry_around_df = carry_around_df.merge(pd.concat([train_features,test_features])[['predictions' + suffix, 'probabilities' + suffix]], right_index=True, left_index=True, suffixes=['',''])\n",
        "carry_around_dims += ['predictions' + suffix, 'probabilities' + suffix]"
      ],
      "execution_count": 17,
      "outputs": []
    },
    {
      "cell_type": "code",
      "metadata": {
        "id": "BJOhBhqGIhWT",
        "executionInfo": {
          "status": "ok",
          "timestamp": 1625192975498,
          "user_tz": 420,
          "elapsed": 44,
          "user": {
            "displayName": "Besim Avci",
            "photoUrl": "https://lh3.googleusercontent.com/a/default-user=s64",
            "userId": "02966828462576281185"
          }
        },
        "outputId": "1b63f86d-86a4-4336-f3a3-cd1a891a7b0f"
      },
      "source": [
        "print(suffix + ' test auc: ', roc_auc_score(test_labels, test_features['probabilities' + suffix]))\n",
        "print(suffix + ' train auc: ', roc_auc_score(train_labels, train_features['probabilities' + suffix]))"
      ],
      "execution_count": 18,
      "outputs": [
        {
          "output_type": "stream",
          "text": [
            "_forest test auc:  0.8911869528705212\n",
            "_forest train auc:  0.9974591492731004\n"
          ],
          "name": "stdout"
        }
      ]
    },
    {
      "cell_type": "markdown",
      "metadata": {
        "id": "kibxhgm1IhWU"
      },
      "source": [
        "##simple random forest"
      ]
    },
    {
      "cell_type": "code",
      "metadata": {
        "id": "LdcUxj69v8kw",
        "executionInfo": {
          "status": "ok",
          "timestamp": 1625192976859,
          "user_tz": 420,
          "elapsed": 2,
          "user": {
            "displayName": "Besim Avci",
            "photoUrl": "https://lh3.googleusercontent.com/a/default-user=s64",
            "userId": "02966828462576281185"
          }
        }
      },
      "source": [
        "if dataset == 'Lending':\n",
        "  simple_columns = ['fico_range_high', 'int_rate', 'loan_amnt', 'purpose', 'target']\n",
        "elif dataset == 'Census':\n",
        "  simple_columns = ['CapitalGain', 'Age', 'EducationNum', 'Income']"
      ],
      "execution_count": 19,
      "outputs": []
    },
    {
      "cell_type": "code",
      "metadata": {
        "id": "B_HKI5H8IhWU",
        "executionInfo": {
          "status": "ok",
          "timestamp": 1625192977029,
          "user_tz": 420,
          "elapsed": 6,
          "user": {
            "displayName": "Besim Avci",
            "photoUrl": "https://lh3.googleusercontent.com/a/default-user=s64",
            "userId": "02966828462576281185"
          }
        }
      },
      "source": [
        "df_simple = df[simple_columns]"
      ],
      "execution_count": 20,
      "outputs": []
    },
    {
      "cell_type": "code",
      "metadata": {
        "id": "ZgjBdK4OIhWU",
        "executionInfo": {
          "status": "ok",
          "timestamp": 1625192978110,
          "user_tz": 420,
          "elapsed": 939,
          "user": {
            "displayName": "Besim Avci",
            "photoUrl": "https://lh3.googleusercontent.com/a/default-user=s64",
            "userId": "02966828462576281185"
          }
        }
      },
      "source": [
        "pipe = create_pipeline_with_one_hot(df_simple, RandomForestClassifier(\n",
        "    n_estimators=100, max_depth=5, bootstrap=False, max_features=None, random_state=1234), label_column)\n",
        "train_features, test_features, train_labels, test_labels = split_data(df_simple, label_column)\n",
        "\n",
        "_ = pipe.fit(train_features[train_features.columns.difference(carry_around_dims)], train_labels)"
      ],
      "execution_count": 21,
      "outputs": []
    },
    {
      "cell_type": "code",
      "metadata": {
        "id": "6G1Bsd1aIhWU",
        "executionInfo": {
          "status": "ok",
          "timestamp": 1625192978186,
          "user_tz": 420,
          "elapsed": 3,
          "user": {
            "displayName": "Besim Avci",
            "photoUrl": "https://lh3.googleusercontent.com/a/default-user=s64",
            "userId": "02966828462576281185"
          }
        }
      },
      "source": [
        "suffix = '_simple'"
      ],
      "execution_count": 22,
      "outputs": []
    },
    {
      "cell_type": "code",
      "metadata": {
        "id": "otO-iSGY3QcW",
        "executionInfo": {
          "status": "ok",
          "timestamp": 1625192978735,
          "user_tz": 420,
          "elapsed": 439,
          "user": {
            "displayName": "Besim Avci",
            "photoUrl": "https://lh3.googleusercontent.com/a/default-user=s64",
            "userId": "02966828462576281185"
          }
        }
      },
      "source": [
        "train_features = add_predictions_to_df(pipe, train_features, train_features.columns.difference(carry_around_dims), suffix)\n",
        "test_features = add_predictions_to_df(pipe, test_features, test_features.columns.difference(carry_around_dims), suffix)\n",
        "\n",
        "carry_around_df = carry_around_df.merge(pd.concat([train_features, test_features])[['predictions' + suffix, 'probabilities' + suffix]], right_index=True, left_index=True, suffixes=['',''])\n",
        "carry_around_dims += ['predictions' + suffix, 'probabilities' + suffix]"
      ],
      "execution_count": 23,
      "outputs": []
    },
    {
      "cell_type": "code",
      "metadata": {
        "id": "ZWMHMQcsIhWV",
        "executionInfo": {
          "status": "ok",
          "timestamp": 1625192981156,
          "user_tz": 420,
          "elapsed": 21,
          "user": {
            "displayName": "Besim Avci",
            "photoUrl": "https://lh3.googleusercontent.com/a/default-user=s64",
            "userId": "02966828462576281185"
          }
        },
        "outputId": "3bdf7987-1dba-48df-9f86-020a89c9d925"
      },
      "source": [
        "print(suffix + ' test auc: ', roc_auc_score(test_labels, test_features['probabilities' + suffix]))\n",
        "print(suffix + ' train auc: ', roc_auc_score(train_labels, train_features['probabilities' + suffix]))"
      ],
      "execution_count": 24,
      "outputs": [
        {
          "output_type": "stream",
          "text": [
            "_simple test auc:  0.8331229005496742\n",
            "_simple train auc:  0.8300811976738806\n"
          ],
          "name": "stdout"
        }
      ]
    },
    {
      "cell_type": "markdown",
      "metadata": {
        "id": "JcWtdnTmIhWV"
      },
      "source": [
        "##merge carry around features"
      ]
    },
    {
      "cell_type": "code",
      "metadata": {
        "id": "UK4ra4AzIhWV",
        "executionInfo": {
          "status": "ok",
          "timestamp": 1625192982034,
          "user_tz": 420,
          "elapsed": 20,
          "user": {
            "displayName": "Besim Avci",
            "photoUrl": "https://lh3.googleusercontent.com/a/default-user=s64",
            "userId": "02966828462576281185"
          }
        }
      },
      "source": [
        "train_features, test_features, train_labels, test_labels = split_data(df, label_column)"
      ],
      "execution_count": 25,
      "outputs": []
    },
    {
      "cell_type": "code",
      "metadata": {
        "id": "SeISQPOPIhWV",
        "executionInfo": {
          "status": "ok",
          "timestamp": 1625192982529,
          "user_tz": 420,
          "elapsed": 61,
          "user": {
            "displayName": "Besim Avci",
            "photoUrl": "https://lh3.googleusercontent.com/a/default-user=s64",
            "userId": "02966828462576281185"
          }
        }
      },
      "source": [
        "train_features = train_features.merge(carry_around_df, left_index=True, right_index=True, suffixes=['',''])\n",
        "test_features = test_features.merge(carry_around_df, left_index=True, right_index=True, suffixes=['',''])\n",
        "# Add labels to the dataframe\n",
        "train_features[label_column] = train_labels\n",
        "test_features[label_column] = test_labels"
      ],
      "execution_count": 26,
      "outputs": []
    },
    {
      "cell_type": "markdown",
      "metadata": {
        "id": "B-yKj95rIhWW"
      },
      "source": [
        "#attribution"
      ]
    },
    {
      "cell_type": "code",
      "metadata": {
        "id": "cLxfFAq3IhWW",
        "cellView": "form",
        "executionInfo": {
          "status": "ok",
          "timestamp": 1625192982914,
          "user_tz": 420,
          "elapsed": 63,
          "user": {
            "displayName": "Besim Avci",
            "photoUrl": "https://lh3.googleusercontent.com/a/default-user=s64",
            "userId": "02966828462576281185"
          }
        }
      },
      "source": [
        "#@title AUC attribution\n",
        "\n",
        "def calculate_auc_attribution(positive_scores, negative_scores):\n",
        "  \"\"\"Makes AUC attributions to each input point.\n",
        "\n",
        "  Args:\n",
        "    positive_scores: Sorted list of predictions for the positive class.\n",
        "    negative_scores: Sorted list of predictions for the negative class.\n",
        "  Returns:\n",
        "    Tuple of attributions for positive scores and negative scores respectively.  \n",
        "  \"\"\"\n",
        "  neg_attrs, pos_attrs = [], []\n",
        "  neg_index, pos_index = 0, 0\n",
        "  while True:\n",
        "    if positive_scores[pos_index] > negative_scores[neg_index]:\n",
        "      neg_attrs.append(pos_index)\n",
        "      neg_index += 1\n",
        "    elif positive_scores[pos_index] < negative_scores[neg_index]:\n",
        "      pos_attrs.append(neg_index)\n",
        "      pos_index += 1\n",
        "    else:  # Tie\n",
        "      # Advance both at the same time.\n",
        "      next_pos_tie_index = pos_index\n",
        "      for next_pos_tie_index in range(pos_index, len(positive_scores)):\n",
        "        if positive_scores[next_pos_tie_index] != negative_scores[neg_index]:\n",
        "          break\n",
        "      else:\n",
        "        next_pos_tie_index = len(positive_scores)\n",
        "      next_neg_tie_index = neg_index\n",
        "      for next_neg_tie_index in range(neg_index, len(negative_scores)):\n",
        "        if negative_scores[next_neg_tie_index] != positive_scores[pos_index]:\n",
        "          break\n",
        "      else:\n",
        "        next_neg_tie_index = len(negative_scores)\n",
        "      pos_attr = neg_index + (next_neg_tie_index - neg_index) * 0.5\n",
        "      neg_attr = pos_index + (next_pos_tie_index - pos_index) * 0.5\n",
        "      for i in range(neg_index, next_neg_tie_index):\n",
        "        neg_attrs.append(neg_attr)\n",
        "      for i in range(pos_index, next_pos_tie_index):\n",
        "        pos_attrs.append(pos_attr)\n",
        "      neg_index = next_neg_tie_index\n",
        "      pos_index = next_pos_tie_index\n",
        "\n",
        "    # One group is exhausted. Attribute the unfinished list.\n",
        "    if pos_index == len(positive_scores):\n",
        "      for i in range(neg_index, len(negative_scores)):\n",
        "        neg_attrs.append(pos_index)\n",
        "      break\n",
        "    if neg_index == len(negative_scores):\n",
        "      for i in range(pos_index, len(positive_scores)):\n",
        "        pos_attrs.append(neg_index)\n",
        "      break\n",
        "\n",
        "  total_pairs = len(positive_scores) * len(negative_scores) * 2  # DIVIDE BY 2.\n",
        "\n",
        "  # Do a 1- fraction for negative attributions.\n",
        "  adjusted_neg_attrs = []\n",
        "  for neg_attr in neg_attrs:\n",
        "    adjusted_neg_attrs.append(len(positive_scores) - neg_attr)\n",
        "  return np.array(pos_attrs) / total_pairs, np.array(adjusted_neg_attrs) / total_pairs\n",
        "  #return np.array(pos_attrs), np.array(adjusted_neg_attrs)\n",
        "\n",
        "def add_auc_attributions_to_df(df, suffix):\n",
        "  \"\"\"Adds auc attributions for each example as a new column named auc_attr.\"\"\"\n",
        "  print('AUC score for the given Dataframe: %f.' % roc_auc_score(\n",
        "      df[label_column], df['probabilities' + suffix]))\n",
        "  negative_cases = df[df[label_column] == 0]\n",
        "  positive_cases = df[df[label_column] == 1]\n",
        "  negative_cases = negative_cases.sort_values('probabilities' + suffix)\n",
        "  positive_cases = positive_cases.sort_values('probabilities' + suffix)\n",
        "  p, n = calculate_auc_attribution(\n",
        "      positive_cases['probabilities' + suffix].tolist(),\n",
        "       negative_cases['probabilities' + suffix].tolist())\n",
        "  print('Sum of AUC attributions: %f.' % (np.sum(n) + np.sum(p)))\n",
        "  positive_cases['auc_attr' + suffix] = p\n",
        "  negative_cases['auc_attr' + suffix] = n\n",
        "  return positive_cases.append(negative_cases, ignore_index=False)"
      ],
      "execution_count": 27,
      "outputs": []
    },
    {
      "cell_type": "code",
      "metadata": {
        "id": "b1LJEYgVIhWX",
        "cellView": "form",
        "executionInfo": {
          "status": "ok",
          "timestamp": 1625192983807,
          "user_tz": 420,
          "elapsed": 109,
          "user": {
            "displayName": "Besim Avci",
            "photoUrl": "https://lh3.googleusercontent.com/a/default-user=s64",
            "userId": "02966828462576281185"
          }
        },
        "outputId": "7684097f-81c0-44d5-a210-aaf9b54521ab"
      },
      "source": [
        "#@title Attach attribution and surprise scores\n",
        "\n",
        "def add_auc_surprise_metric_to_df(df: pd.DataFrame, label_column: str, suffix):\n",
        "  \"\"\"Adds AUC surprise metric column named auc_surprise.\"\"\"\n",
        "  p = np.sum(df[label_column] == 1)\n",
        "  n = np.sum(df[label_column] == 0)\n",
        "  assert ('auc_attr' + suffix) in df.columns, 'Make sure to add auc_attr to df.'\n",
        "  total_auc = np.sum(df['auc_attr' + suffix])\n",
        "  df['auc_baseline'] = np.where(\n",
        "      df[label_column] == 1, total_auc / (2 * p), total_auc / (2 * n))\n",
        "\n",
        "  df['auc_surprise' + suffix] = (df['auc_attr' + suffix] - df.auc_baseline) * p * n\n",
        "  return df\n",
        "\n",
        "test_features = add_auc_attributions_to_df(test_features, \"_logistic\")\n",
        "test_features = add_auc_attributions_to_df(test_features, \"_forest\")\n",
        "test_features = add_auc_attributions_to_df(test_features, \"_simple\")\n",
        "\n",
        "test_features = add_auc_surprise_metric_to_df(test_features, label_column, \"_logistic\")\n",
        "test_features = add_auc_surprise_metric_to_df(test_features, label_column, \"_forest\")\n",
        "test_features = add_auc_surprise_metric_to_df(test_features, label_column, \"_simple\")\n",
        "\n",
        "test_features['auc_attr' + '_logistic'] *= np.sum(df[label_column] == 1) * np.sum(df[label_column] == 0)\n",
        "test_features['auc_attr' + '_forest'] *= np.sum(df[label_column] == 1) * np.sum(df[label_column] == 0)\n",
        "test_features['auc_attr' + '_simple'] *= np.sum(df[label_column] == 1) * np.sum(df[label_column] == 0)\n",
        "\n"
      ],
      "execution_count": 28,
      "outputs": [
        {
          "output_type": "stream",
          "text": [
            "AUC score for the given Dataframe: 0.879228.\n",
            "Sum of AUC attributions: 0.879228.\n",
            "AUC score for the given Dataframe: 0.891187.\n",
            "Sum of AUC attributions: 0.891187.\n",
            "AUC score for the given Dataframe: 0.833123.\n",
            "Sum of AUC attributions: 0.833123.\n"
          ],
          "name": "stdout"
        }
      ]
    },
    {
      "cell_type": "code",
      "metadata": {
        "id": "USe1SUErIhWY",
        "cellView": "form",
        "executionInfo": {
          "status": "ok",
          "timestamp": 1625192986404,
          "user_tz": 420,
          "elapsed": 26,
          "user": {
            "displayName": "Besim Avci",
            "photoUrl": "https://lh3.googleusercontent.com/a/default-user=s64",
            "userId": "02966828462576281185"
          }
        }
      },
      "source": [
        "#@title LogLoss attribution\n",
        "def logloss(true_label, predicted, eps=1e-15):\n",
        "  p = np.clip(predicted, eps, 1 - eps)\n",
        "  return np.where(true_label == 1, -np.log(p), -np.log(1-p))\n",
        "  if true_label == 1:\n",
        "    return -np.log(p)\n",
        "  else:\n",
        "    return -np.log(1 - p)\n",
        "\n",
        "test_features['logloss_logistic'] = logloss(test_features[label_column], test_features.probabilities_logistic)\n",
        "test_features['logloss_forest'] = logloss(test_features[label_column], test_features.probabilities_forest)\n",
        "test_features['logloss_simple'] = logloss(test_features[label_column], test_features.probabilities_simple)\n",
        " "
      ],
      "execution_count": 29,
      "outputs": []
    },
    {
      "cell_type": "code",
      "metadata": {
        "id": "I0ibEUbTIhWY",
        "executionInfo": {
          "status": "ok",
          "timestamp": 1625192986567,
          "user_tz": 420,
          "elapsed": 25,
          "user": {
            "displayName": "Besim Avci",
            "photoUrl": "https://lh3.googleusercontent.com/a/default-user=s64",
            "userId": "02966828462576281185"
          }
        },
        "outputId": "92699908-b294-41ec-b78b-161d5a7b6da6"
      },
      "source": [
        "print(np.mean(test_features.logloss_logistic))\n",
        "print(np.mean(test_features.logloss_forest))\n",
        "print(np.mean(test_features.logloss_simple))"
      ],
      "execution_count": 30,
      "outputs": [
        {
          "output_type": "stream",
          "text": [
            "0.35954021690426646\n",
            "0.5371179839169085\n",
            "0.39155512831437234\n"
          ],
          "name": "stdout"
        }
      ]
    },
    {
      "cell_type": "markdown",
      "metadata": {
        "id": "ZcSkuioFIhWZ"
      },
      "source": [
        "#Slice"
      ]
    },
    {
      "cell_type": "markdown",
      "metadata": {
        "id": "9W6yniybIhWW"
      },
      "source": [
        "#slicing tree"
      ]
    },
    {
      "cell_type": "code",
      "metadata": {
        "id": "QabFTStUIhWW",
        "cellView": "form",
        "executionInfo": {
          "status": "ok",
          "timestamp": 1625192988987,
          "user_tz": 420,
          "elapsed": 20,
          "user": {
            "displayName": "Besim Avci",
            "photoUrl": "https://lh3.googleusercontent.com/a/default-user=s64",
            "userId": "02966828462576281185"
          }
        }
      },
      "source": [
        "#@title Build Tree function\n",
        "def build_tree(df: pd.DataFrame, target_column: str, input_columns, \n",
        "               min_samples_leaf=5000, max_depth=3):\n",
        "  \"\"\"Builds a surprise tree.\n",
        "  \n",
        "  Returns:\n",
        "    A tuple of the tree itself and the feature names.\n",
        "  \"\"\"\n",
        "  is_cat = np.array([dt.kind == 'O' for dt in df[input_columns].dtypes])\n",
        "  cat_cols = df[input_columns].columns.values[is_cat]\n",
        "  is_num = np.array([dt.kind == 'f' or dt.kind == 'i' for dt in df[input_columns].dtypes])\n",
        "  num_cols = df[input_columns].columns.values[is_num]\n",
        "  # Date and other type of columns are effectively dropped.\n",
        "  transformers = [\n",
        "      ('cat', OneHotEncoder(sparse=False, handle_unknown='ignore'), cat_cols),\n",
        "      ('num', FunctionTransformer(), num_cols)\n",
        "  ]\n",
        "  ct = ColumnTransformer(transformers=transformers)\n",
        "  treg = tree.DecisionTreeRegressor(min_samples_leaf=min_samples_leaf, max_depth=max_depth,\n",
        "                                    random_state=1234)\n",
        "  #treg = LinearRegression()\n",
        "  treg.fit(ct.fit_transform(df[input_columns]), df[target_column])\n",
        "  if len(cat_cols) > 0:\n",
        "    feature_names = ct.transformers_[0][1].get_feature_names(cat_cols).tolist()\n",
        "  else:\n",
        "    feature_names = []\n",
        "  feature_names += num_cols.tolist()\n",
        "  return treg, feature_names, ct"
      ],
      "execution_count": 31,
      "outputs": []
    },
    {
      "cell_type": "code",
      "metadata": {
        "id": "qseNQdohTnac",
        "cellView": "form",
        "executionInfo": {
          "status": "ok",
          "timestamp": 1625192991055,
          "user_tz": 420,
          "elapsed": 343,
          "user": {
            "displayName": "Besim Avci",
            "photoUrl": "https://lh3.googleusercontent.com/a/default-user=s64",
            "userId": "02966828462576281185"
          }
        }
      },
      "source": [
        "#@title Per Node Plotting Utils\n",
        "\n",
        "from sklearn.tree._export import _MPLTreeExporter\n",
        "from sklearn.tree import _criterion\n",
        "from sklearn.tree import _export\n",
        "from sklearn.tree import _tree\n",
        "from scipy import stats\n",
        "\n",
        "\n",
        "class _MPLTreeExporterOverride(_MPLTreeExporter):\n",
        "  def node_to_str(self, tree, node_id, criterion):\n",
        "      # Generate the node content string\n",
        "      if tree.n_outputs == 1:\n",
        "          value = tree.value[node_id][0, :]\n",
        "      else:\n",
        "          value = tree.value[node_id]\n",
        "\n",
        "      # Should labels be shown?\n",
        "      labels = (self.label == 'root' and node_id == 0) or self.label == 'all'\n",
        "\n",
        "      characters = self.characters\n",
        "      node_string = characters[-1]\n",
        "\n",
        "      # Write node ID\n",
        "      if self.node_ids:\n",
        "          if labels:\n",
        "              node_string += 'node '\n",
        "          node_string += characters[0] + str(node_id) + characters[4]\n",
        "\n",
        "      # Write decision criteria\n",
        "      if tree.children_left[node_id] != _tree.TREE_LEAF:\n",
        "          # Always write node decision criteria, except for leaves\n",
        "          if self.feature_names is not None:\n",
        "              feature = self.feature_names[tree.feature[node_id]]\n",
        "          else:\n",
        "              feature = \"X%s%s%s\" % (characters[1],\n",
        "                                      tree.feature[node_id],\n",
        "                                      characters[2])\n",
        "          node_string += '%s %s %s%s' % (feature,\n",
        "                                          characters[3],\n",
        "                                          round(tree.threshold[node_id],\n",
        "                                                self.precision),\n",
        "                                          characters[4])\n",
        "\n",
        "      # Don't Write impurity\n",
        "      \"\"\"\n",
        "      if self.impurity:\n",
        "          if isinstance(criterion, _criterion.FriedmanMSE):\n",
        "              criterion = \"friedman_mse\"\n",
        "          elif not isinstance(criterion, str):\n",
        "              criterion = \"impurity\"\n",
        "          if labels:\n",
        "              node_string += '%s = ' % criterion\n",
        "          node_string += (str(round(tree.impurity[node_id], self.precision))\n",
        "                          + characters[4])\n",
        "      \"\"\"\n",
        "\n",
        "      # Write node sample count\n",
        "      if labels:\n",
        "          node_string += 'samples = '\n",
        "      if self.proportion:\n",
        "          percent = (100. * tree.n_node_samples[node_id] /\n",
        "                      float(tree.n_node_samples[0]))\n",
        "          node_string += (str(round(percent, 1)) + '%' +\n",
        "                          characters[4])\n",
        "      else:\n",
        "          node_string += (str(tree.n_node_samples[node_id]) +\n",
        "                          characters[4])\n",
        "\n",
        "      ### BESIM's CHANGE BEGIN\n",
        "      if self.base_metric_per_node:\n",
        "        node_string += '%s = ' % self.base_metric_name\n",
        "        node_string += str(\n",
        "            round(np.mean(\n",
        "                self.base_metric_per_node[node_id]), 5)) + characters[4]\n",
        "      if self.honest_metric_per_node:\n",
        "        node_string += '%s (honest) = ' % self.metric_name\n",
        "        node_string += str(\n",
        "            round(np.mean(\n",
        "                self.honest_metric_per_node[node_id]), 5)) + characters[4]\n",
        "      ### BESIM's CHANGE END\n",
        "\n",
        "      # Write node class distribution / regression value\n",
        "      if self.proportion and tree.n_classes[0] != 1:\n",
        "          # For classification this will show the proportion of samples\n",
        "          value = value / tree.weighted_n_node_samples[node_id]\n",
        "      if labels:\n",
        "          node_string += '%s = ' % self.metric_name  # Also BESIM's change.\n",
        "      if tree.n_classes[0] == 1:\n",
        "          # Regression\n",
        "          value_text = np.around(value, self.precision)\n",
        "      elif self.proportion:\n",
        "          # Classification\n",
        "          value_text = np.around(value, self.precision)\n",
        "      elif np.all(np.equal(np.mod(value, 1), 0)):\n",
        "          # Classification without floating-point weights\n",
        "          value_text = value.astype(int)\n",
        "      else:\n",
        "          # Classification with floating-point weights\n",
        "          value_text = np.around(value, self.precision)\n",
        "      # Strip whitespace\n",
        "      value_text = str(value_text.astype('S32')).replace(\"b'\", \"'\")\n",
        "      value_text = value_text.replace(\"' '\", \", \").replace(\"'\", \"\")\n",
        "      if tree.n_classes[0] == 1 and tree.n_outputs == 1:\n",
        "          value_text = value_text.replace(\"[\", \"\").replace(\"]\", \"\")\n",
        "      value_text = value_text.replace(\"\\n \", characters[4])\n",
        "      node_string += value_text + characters[4]\n",
        "\n",
        "      # Clean up any trailing newlines\n",
        "      if node_string.endswith(characters[4]):\n",
        "          node_string = node_string[:-len(characters[4])]\n",
        "\n",
        "      return node_string + characters[5]\n",
        "\n",
        "  def get_color(self, value, node_id):\n",
        "        # Find the appropriate color & intensity for a node\n",
        "        if self.colors['bounds'] is None:\n",
        "            # Classification tree\n",
        "            color = list(self.colors['rgb'][np.argmax(value)])\n",
        "            sorted_values = sorted(value, reverse=True)\n",
        "            if len(sorted_values) == 1:\n",
        "                alpha = 0\n",
        "            else:\n",
        "                alpha = ((sorted_values[0] - sorted_values[1])\n",
        "                         / (1 - sorted_values[1]))\n",
        "        else:\n",
        "            # Regression tree or multi-output\n",
        "            ### BESIM ###\n",
        "            color = list(self.colors['rgb'][0])\n",
        "            alpha = ((value - self.colors['bounds'][0]) /\n",
        "                     (self.colors['bounds'][1] - self.colors['bounds'][0]))\n",
        "            if self.honest_metric_per_node:\n",
        "              # Get (1 - p-value) as the alpha.\n",
        "              if stats.ttest_ind(self.metric_per_node[node_id],\n",
        "                                 self.honest_metric_per_node[node_id])[1] < 0.05:\n",
        "                alpha = 1\n",
        "              else:\n",
        "                alpha = 0\n",
        "              # alpha = 1 - stats.ttest_ind(self.metric_per_node[node_id],\n",
        "              #                            self.honest_metric_per_node[node_id])[1]\n",
        "            ### BESIM END ###\n",
        "        # unpack numpy scalars\n",
        "        alpha = float(alpha)\n",
        "        # compute the color as alpha against white\n",
        "        color = [int(round(alpha * c + (1 - alpha) * 255, 0)) for c in color]\n",
        "        # Return html color code in #RRGGBB format\n",
        "        return '#%2x%2x%2x' % tuple(color)\n",
        "\n",
        "  def get_fill_color(self, tree, node_id):\n",
        "        # Fetch appropriate color for node\n",
        "        if 'rgb' not in self.colors:\n",
        "            # Initialize colors and bounds if required\n",
        "            self.colors['rgb'] = _export._color_brew(tree.n_classes[0])\n",
        "            if tree.n_outputs != 1:\n",
        "                # Find max and min impurities for multi-output\n",
        "                self.colors['bounds'] = (np.min(-tree.impurity),\n",
        "                                         np.max(-tree.impurity))\n",
        "            elif (tree.n_classes[0] == 1 and\n",
        "                  len(np.unique(tree.value)) != 1):\n",
        "                # Find max and min values in leaf nodes for regression\n",
        "                self.colors['bounds'] = (np.min(tree.value),\n",
        "                                         np.max(tree.value))\n",
        "        if tree.n_outputs == 1:\n",
        "            node_val = (tree.value[node_id][0, :] /\n",
        "                        tree.weighted_n_node_samples[node_id])\n",
        "            if tree.n_classes[0] == 1:\n",
        "                # Regression\n",
        "                node_val = tree.value[node_id][0, :]\n",
        "        else:\n",
        "            # If multi-output color node by impurity\n",
        "            node_val = -tree.impurity[node_id]\n",
        "        return self.get_color(node_val, node_id)\n",
        "\n",
        "\n",
        "def get_samples_ids_through_node(tree, df):\n",
        "  \"\"\"Figures out which samples go through each node in a tree.\n",
        "  Returns a dictionary where the key is the node index, values is a list of\n",
        "  row numbers that go through that node.\n",
        "  \"\"\"\n",
        "  dec_paths = tree.decision_path(df)\n",
        "\n",
        "  samples = collections.defaultdict(list)\n",
        "  for d, dec in enumerate(dec_paths):\n",
        "    for i in range(tree.tree_.node_count):\n",
        "      if dec.toarray()[0][i] == 1:\n",
        "        samples[i].append(d) \n",
        "  return samples\n",
        "\n",
        "\n",
        "def get_metric_per_node(tree, tree_dims, df, metric_name, col_transformer=None):\n",
        "  \"\"\"Calculates the desired metric for each tree node.\"\"\"\n",
        "  if col_transformer:\n",
        "    feats = col_transformer.transform(df[tree_dims])\n",
        "  else:\n",
        "    feats = df[tree_dims]\n",
        "  sample_ids = get_samples_ids_through_node(tree, feats)\n",
        "\n",
        "  metric_per_node = []\n",
        "  for i in range(tree.tree_.node_count):\n",
        "    samples_through_node = df.iloc[sample_ids[i], :]\n",
        "    # metric_per_node.append(np.mean(samples_through_node[metric_name]))\n",
        "    metric_per_node.append(samples_through_node[metric_name])\n",
        "  return metric_per_node\n",
        "\n",
        "\n",
        "\n",
        "def plot_tree_override(decision_tree, *, max_depth=None, feature_names=None,\n",
        "              class_names=None, label='all', filled=False,\n",
        "              impurity=True, node_ids=False,\n",
        "              proportion=False, rotate='deprecated', rounded=False,\n",
        "              precision=3, ax=None, fontsize=None, decision_tree_dims=None,\n",
        "              test_features=None, column_transformer=None,\n",
        "              base_metric_to_record=None,\n",
        "              metric_name_override='value',\n",
        "              honest_sample=None, honest_metric=None):\n",
        "  exporter = _MPLTreeExporterOverride(\n",
        "      max_depth=max_depth, feature_names=feature_names,\n",
        "      class_names=class_names, label=label, filled=filled,\n",
        "      impurity=impurity, node_ids=node_ids,\n",
        "      proportion=proportion, rotate=rotate, rounded=rounded,\n",
        "      precision=precision, fontsize=fontsize)\n",
        "  \n",
        "\n",
        "  if base_metric_to_record:\n",
        "    exporter.base_metric_per_node = get_metric_per_node(decision_tree,\n",
        "                                                        decision_tree_dims,\n",
        "                                                        test_features,\n",
        "                                                        base_metric_to_record,\n",
        "                                                        column_transformer)\n",
        "  else:\n",
        "    exporter.base_metric_per_node = None\n",
        "  exporter.metric_per_node = get_metric_per_node(decision_tree,\n",
        "                                                 decision_tree_dims,\n",
        "                                                 test_features,\n",
        "                                                 metric_name_override,\n",
        "                                                 column_transformer)\n",
        "  if honest_sample is not None:\n",
        "    exporter.honest_metric_per_node = get_metric_per_node(decision_tree,\n",
        "                                                          decision_tree_dims,\n",
        "                                                          honest_sample,\n",
        "                                                          honest_metric,\n",
        "                                                          column_transformer)\n",
        "  else:\n",
        "    exporter.honest_metric_per_node = None\n",
        "\n",
        "  exporter.base_metric_name = base_metric_to_record\n",
        "  exporter.metric_name = metric_name_override\n",
        "  return exporter.export(decision_tree, ax=ax)"
      ],
      "execution_count": 32,
      "outputs": []
    },
    {
      "cell_type": "code",
      "metadata": {
        "id": "haKvz7Z2xSDq"
      },
      "source": [
        "test_features['delta_auc'] = (test_features['auc_attr_forest'] - test_features['auc_attr_simple'])*test_features.shape[0] \n",
        "test_features['delta_logloss'] = (test_features['logloss_forest'] - test_features['logloss_simple']) \n",
        "\n",
        "test_features['delta_auc'] = (test_features['auc_attr_forest'] - test_features['auc_attr_logistic'])*test_features.shape[0] \n",
        "test_features['delta_logloss'] = (test_features['logloss_forest'] - test_features['logloss_logistic']) "
      ],
      "execution_count": null,
      "outputs": []
    },
    {
      "cell_type": "code",
      "metadata": {
        "id": "447SmrTzIhWZ",
        "cellView": "form"
      },
      "source": [
        "slicing_metric = 'delta_logloss' #@param [\"delta_logloss\", \"delta_auc\", \"logloss\", \"auc_attr\", \"auc_surprise\", \"correlation\", \"mse\", \"precision\", \"recall\"]\n",
        "base_metric = 'logloss_simple' #@param {type: \"string\"}\n",
        "max_depth = 3 #@param\n",
        "min_samples_leaf = 500 #@param\n",
        "\n",
        "\n",
        "decision_tree_dims = list(set(test_features.columns).difference(['predictions', 'probabilities',\n",
        "       'issue_year', 'issue_d', 'target', 'correlation', 'mse', 'precision',\n",
        "       'recall', 'logloss', 'auc_attr', 'auc_baseline', 'auc_surprise',\n",
        "       'year','predictions_logistic',\n",
        "       'probabilities_logistic', 'predictions_forest', 'probabilities_forest',\n",
        "       'predictions_simple', 'probabilities_simple', 'logloss_logistic',\n",
        "       'logloss_forest', 'logloss_simple', 'auc_attr_logistic',\n",
        "       'auc_attr_forest', 'auc_attr_simple','delta_auc', 'delta_logloss']))\n",
        "\n",
        "decision_tree_dims =  ['CapitalGain', 'Age', 'EducationNum']  #@param \n",
        "\n",
        "if not decision_tree_dims:\n",
        "  decision_tree_dims = ['int_rate','purpose','annual_inc', 'term']\n",
        "\n",
        "honest_reporting = True # @param {type: \"boolean\"}\n",
        "if honest_reporting:\n",
        "  honest_sample1, honest_sample2 = train_test_split(test_features, test_size=0.5)\n",
        "  tree_building_df = honest_sample1\n",
        "  honest_sample = honest_sample2\n",
        "else:\n",
        "  tree_building_df = test_features\n",
        "  honest_sample = None\n",
        "\n",
        "tt, fnames, ct = build_tree(\n",
        "    tree_building_df,\n",
        "    slicing_metric,\n",
        "    decision_tree_dims,\n",
        "    min_samples_leaf=min_samples_leaf,\n",
        "    max_depth=max_depth\n",
        "    )\n",
        "\n",
        "plt.figure(figsize=(20, 20))\n",
        "graph_out = plot_tree_override(tt, filled=True, fontsize=12,\n",
        "                               feature_names=fnames, precision=3,\n",
        "                              decision_tree_dims=decision_tree_dims,\n",
        "                              test_features=tree_building_df,\n",
        "                              column_transformer=ct,\n",
        "                              base_metric_to_record=base_metric,\n",
        "                              metric_name_override=slicing_metric,\n",
        "                              honest_sample=honest_sample,\n",
        "                              honest_metric=slicing_metric)"
      ],
      "execution_count": null,
      "outputs": []
    },
    {
      "cell_type": "markdown",
      "metadata": {
        "id": "7TH16HiUFjnD"
      },
      "source": [
        "### Pairwise Analysis"
      ]
    },
    {
      "cell_type": "code",
      "metadata": {
        "id": "99Fd4JLVea_5"
      },
      "source": [
        "from sklearn import utils\n",
        "sample_size = 10000 #@param\n",
        "if sample_size and sample_size < len(test_features):\n",
        "  test_sample = utils.resample(test_features, replace=False, n_samples=sample_size)\n",
        "else:\n",
        "  test_sample = test_features\n",
        "\n",
        "negative_cases = test_sample[test_sample[label_column] == 0]\n",
        "positive_cases = test_sample[test_sample[label_column] == 1]\n",
        "\n",
        "positive_cases.columns = [name + '_pos' for name in positive_cases.columns]\n",
        "negative_cases.columns = [name + '_neg' for name in negative_cases.columns]\n",
        "\n",
        "# Needed to do cross join. This pandas version doesn't have cross join.\n",
        "# Hence we do outer join with a fake joining column.\n",
        "positive_cases['tmp'] = 1\n",
        "negative_cases['tmp'] = 1\n",
        "\n",
        "cartesian = negative_cases.merge(positive_cases, how='outer')\n",
        "cartesian.drop('tmp', axis=1, inplace=True)"
      ],
      "execution_count": null,
      "outputs": []
    },
    {
      "cell_type": "code",
      "metadata": {
        "id": "S68gkkW0I5Ek",
        "executionInfo": {
          "status": "ok",
          "timestamp": 1625193072020,
          "user_tz": 420,
          "elapsed": 52,
          "user": {
            "displayName": "Besim Avci",
            "photoUrl": "https://lh3.googleusercontent.com/a/default-user=s64",
            "userId": "02966828462576281185"
          }
        }
      },
      "source": [
        "pair_label = 'AUC'\n",
        "probability_column = 'probabilities_logistic'\n",
        "# Think harder on the ties.\n",
        "cartesian[pair_label] = np.where(cartesian[probability_column + '_pos'] > cartesian[probability_column + '_neg'], 1, 0)"
      ],
      "execution_count": 37,
      "outputs": []
    },
    {
      "cell_type": "code",
      "metadata": {
        "id": "ZnJ2F5pO60GI",
        "executionInfo": {
          "status": "ok",
          "timestamp": 1625193108249,
          "user_tz": 420,
          "elapsed": 7,
          "user": {
            "displayName": "Besim Avci",
            "photoUrl": "https://lh3.googleusercontent.com/a/default-user=s64",
            "userId": "02966828462576281185"
          }
        },
        "outputId": "fa465b1c-547c-4416-c98f-3ff3be05cf10"
      },
      "source": [
        "test_features.columns[:13]"
      ],
      "execution_count": 44,
      "outputs": [
        {
          "output_type": "execute_result",
          "data": {
            "text/plain": [
              "Index(['Age', 'CapitalGain', 'CapitalLoss', 'Education', 'EducationNum',\n",
              "       'Gender', 'HoursPerWeek', 'MaritalStatus', 'NativeCountry',\n",
              "       'Occupation', 'Race', 'Relationship', 'WorkClass'],\n",
              "      dtype='object')"
            ]
          },
          "metadata": {
            "tags": []
          },
          "execution_count": 44
        }
      ]
    },
    {
      "cell_type": "code",
      "metadata": {
        "id": "3Op7BoJ2L1-z",
        "executionInfo": {
          "status": "ok",
          "timestamp": 1625193072212,
          "user_tz": 420,
          "elapsed": 29,
          "user": {
            "displayName": "Besim Avci",
            "photoUrl": "https://lh3.googleusercontent.com/a/default-user=s64",
            "userId": "02966828462576281185"
          }
        },
        "outputId": "f13f9a18-c6aa-4c3c-adcf-fa0e33186713"
      },
      "source": [
        "np.mean(cartesian[pair_label])"
      ],
      "execution_count": 39,
      "outputs": [
        {
          "output_type": "execute_result",
          "data": {
            "text/plain": [
              "0.8792215492671009"
            ]
          },
          "metadata": {
            "tags": []
          },
          "execution_count": 39
        }
      ]
    },
    {
      "cell_type": "code",
      "metadata": {
        "id": "lzRZ_ZdqL5rd",
        "executionInfo": {
          "status": "ok",
          "timestamp": 1625193072345,
          "user_tz": 420,
          "elapsed": 54,
          "user": {
            "displayName": "Besim Avci",
            "photoUrl": "https://lh3.googleusercontent.com/a/default-user=s64",
            "userId": "02966828462576281185"
          }
        },
        "outputId": "5fcd715a-0193-41fa-d419-a7038cac1e96"
      },
      "source": [
        "np.sum(np.where(cartesian[probability_column + '_pos'] == cartesian[probability_column + '_neg'], 1, 0))"
      ],
      "execution_count": 40,
      "outputs": [
        {
          "output_type": "execute_result",
          "data": {
            "text/plain": [
              "98"
            ]
          },
          "metadata": {
            "tags": []
          },
          "execution_count": 40
        }
      ]
    },
    {
      "cell_type": "code",
      "metadata": {
        "id": "4qv2x2cEPimV",
        "executionInfo": {
          "status": "ok",
          "timestamp": 1625193498959,
          "user_tz": 420,
          "elapsed": 452,
          "user": {
            "displayName": "Besim Avci",
            "photoUrl": "https://lh3.googleusercontent.com/a/default-user=s64",
            "userId": "02966828462576281185"
          }
        }
      },
      "source": [
        "plotting_columns = test_features.columns[:13] # LENDING: test_features.columns[:23]  # ['fico_range_high', 'int_rate', 'loan_amnt', 'purpose']\n",
        "cartesian_cols = [col + '_pos' for col in plotting_columns]\n",
        "cartesian_cols.extend([col + '_neg' for col in plotting_columns])\n",
        "cartesian_cols.append(pair_label)"
      ],
      "execution_count": 50,
      "outputs": []
    },
    {
      "cell_type": "code",
      "metadata": {
        "id": "ZzFWlybaPaRE",
        "executionInfo": {
          "status": "ok",
          "timestamp": 1625193501523,
          "user_tz": 420,
          "elapsed": 1931,
          "user": {
            "displayName": "Besim Avci",
            "photoUrl": "https://lh3.googleusercontent.com/a/default-user=s64",
            "userId": "02966828462576281185"
          }
        }
      },
      "source": [
        "cartesian = cartesian[cartesian_cols]"
      ],
      "execution_count": 51,
      "outputs": []
    },
    {
      "cell_type": "code",
      "metadata": {
        "id": "53IOAE-fOppL",
        "executionInfo": {
          "status": "ok",
          "timestamp": 1625193509021,
          "user_tz": 420,
          "elapsed": 6537,
          "user": {
            "displayName": "Besim Avci",
            "photoUrl": "https://lh3.googleusercontent.com/a/default-user=s64",
            "userId": "02966828462576281185"
          }
        }
      },
      "source": [
        "cartesian_train, cartesian_test, cartesian_train_label,  cartesian_test_label = (\n",
        "    train_test_split(cartesian[cartesian.columns[:-1]], cartesian[pair_label], test_size=0.2))"
      ],
      "execution_count": 52,
      "outputs": []
    },
    {
      "cell_type": "code",
      "metadata": {
        "id": "0O4C0O5AQm5M",
        "executionInfo": {
          "status": "ok",
          "timestamp": 1625193509145,
          "user_tz": 420,
          "elapsed": 53,
          "user": {
            "displayName": "Besim Avci",
            "photoUrl": "https://lh3.googleusercontent.com/a/default-user=s64",
            "userId": "02966828462576281185"
          }
        }
      },
      "source": [
        "cartesian_train[pair_label] = cartesian_train_label\n",
        "cartesian_test[pair_label] = cartesian_test_label"
      ],
      "execution_count": 53,
      "outputs": []
    },
    {
      "cell_type": "code",
      "metadata": {
        "colab": {
          "height": 413
        },
        "id": "KJT6Dxd0QuRk",
        "executionInfo": {
          "status": "ok",
          "timestamp": 1625193743417,
          "user_tz": 420,
          "elapsed": 234208,
          "user": {
            "displayName": "Besim Avci",
            "photoUrl": "https://lh3.googleusercontent.com/a/default-user=s64",
            "userId": "02966828462576281185"
          }
        },
        "outputId": "ff23b0ae-2a7c-44d7-8528-627d9647f486"
      },
      "source": [
        "honest_reporting = True # @param {type: \"boolean\"}\n",
        "if honest_reporting:\n",
        "  honest_sample1, honest_sample2 = train_test_split(cartesian_test, test_size=0.5)\n",
        "  tree_building_df = honest_sample1\n",
        "  honest_sample = honest_sample2\n",
        "else:\n",
        "  tree_building_df = cartesian_test\n",
        "  honest_sample = None\n",
        "\n",
        "decision_tree_dims = cartesian_test.columns[:-1]\n",
        "\n",
        "tt, fnames, ct = build_tree(\n",
        "    tree_building_df,\n",
        "    pair_label,\n",
        "    decision_tree_dims,\n",
        "    min_samples_leaf=1000,\n",
        "    max_depth=3\n",
        "    )\n",
        "\n",
        "plt.figure(figsize=(20, 5))\n",
        "graph_out = plot_tree_override(tt, filled=True, fontsize=14,\n",
        "                               feature_names=fnames, precision=3,\n",
        "                               decision_tree_dims=decision_tree_dims,\n",
        "                               test_features=tree_building_df,\n",
        "                               column_transformer=ct,\n",
        "                               # base_metric_to_record=pair_label,\n",
        "                               metric_name_override=pair_label,\n",
        "                               honest_sample=honest_sample,\n",
        "                               honest_metric=pair_label)"
      ],
      "execution_count": 54,
      "outputs": [
        {
          "output_type": "display_data",
          "data": {
            "text/plain": [
              "<Figure size 2000x500 with 1 Axes>"
            ],
            "image/png": "[encoded data removed]"
          },
          "metadata": {
            "tags": []
          }
        }
      ]
    },
    {
      "cell_type": "code",
      "metadata": {
        "id": "pUbjzXVPMKhJ"
      },
      "source": [
        ""
      ],
      "execution_count": null,
      "outputs": []
    }
  ]
}